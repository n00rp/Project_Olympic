{
 "cells": [
  {
   "cell_type": "markdown",
   "metadata": {},
   "source": [
    "Här samlar vi alla grafer som skall in i Main."
   ]
  }
 ],
 "metadata": {
  "kernelspec": {
   "display_name": ".venv",
   "language": "python",
   "name": "python3"
  },
  "language_info": {
   "name": "python",
   "version": "3.12.6"
  }
 },
 "nbformat": 4,
 "nbformat_minor": 2
}
