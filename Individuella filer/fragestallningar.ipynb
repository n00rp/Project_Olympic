{
 "cells": [
  {
   "cell_type": "markdown",
   "metadata": {},
   "source": [
    "# Frågeställningar\n",
    "\n",
    "Fråga 1\n",
    "\n",
    "- Hur ser medaljutvecklingen ut för Tyskland under åren\n",
    "- Vi tittar mer specifikt på några av de framgångsrikaste sporterna för Tyskland\n",
    "\n",
    "Fråga 2\n",
    "\n",
    "- Åldersfördelning i segling\n",
    "- Hur många länder har tagit medalj i längdskidor under åren\n",
    "\n",
    "\n"
   ]
  }
 ],
 "metadata": {
  "language_info": {
   "name": "python"
  }
 },
 "nbformat": 4,
 "nbformat_minor": 2
}
