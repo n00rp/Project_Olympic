{
 "cells": [
  {
   "cell_type": "code",
   "execution_count": 55,
   "metadata": {},
   "outputs": [
    {
     "data": {
      "text/plain": [
       "<Axes: xlabel='NOC', ylabel='count'>"
      ]
     },
     "execution_count": 55,
     "metadata": {},
     "output_type": "execute_result"
    },
    {
     "data": {
      "image/png": "[encoded data removed]",
      "text/plain": [
       "<Figure size 640x480 with 1 Axes>"
      ]
     },
     "metadata": {},
     "output_type": "display_data"
    }
   ],
   "source": [
    "# uppg 2a\n",
    "\n",
    "import pandas as pd\n",
    "import hashlib\n",
    "import matplotlib.pyplot as plt\n",
    "import numpy as np\n",
    "import seaborn as sns\n",
    "\n",
    "df=pd.read_csv(\"../athlete_events.csv\")\n",
    "\n",
    "df_skidor=df[df[\"Sport\"]==\"Cross Country Skiing\"]\n",
    "\n",
    "df_skidor_medaljer=df_skidor[df_skidor[\"Medal\"].isin([\"Gold\", \"Silver\", \"Bronze\"])]\n",
    "\n",
    "df_skidor_medaljer[\"NOC\"].value_counts()\n",
    "\n",
    "sns.barplot(data=df_skidor_medaljer[\"NOC\"].value_counts())\n",
    "\n"
   ]
  },
  {
   "cell_type": "code",
   "execution_count": 3,
   "metadata": {},
   "outputs": [
    {
     "data": {
      "text/html": [
       "<div>\n",
       "<style scoped>\n",
       "    .dataframe tbody tr th:only-of-type {\n",
       "        vertical-align: middle;\n",
       "    }\n",
       "\n",
       "    .dataframe tbody tr th {\n",
       "        vertical-align: top;\n",
       "    }\n",
       "\n",
       "    .dataframe thead th {\n",
       "        text-align: right;\n",
       "    }\n",
       "</style>\n",
       "<table border=\"1\" class=\"dataframe\">\n",
       "  <thead>\n",
       "    <tr style=\"text-align: right;\">\n",
       "      <th></th>\n",
       "      <th>ID</th>\n",
       "      <th>Name</th>\n",
       "      <th>Sex</th>\n",
       "      <th>Age</th>\n",
       "      <th>Height</th>\n",
       "      <th>Weight</th>\n",
       "      <th>Team</th>\n",
       "      <th>NOC</th>\n",
       "      <th>Year</th>\n",
       "      <th>Season</th>\n",
       "      <th>City</th>\n",
       "      <th>Sport</th>\n",
       "      <th>Event</th>\n",
       "      <th>Medal</th>\n",
       "    </tr>\n",
       "    <tr>\n",
       "      <th>Games</th>\n",
       "      <th></th>\n",
       "      <th></th>\n",
       "      <th></th>\n",
       "      <th></th>\n",
       "      <th></th>\n",
       "      <th></th>\n",
       "      <th></th>\n",
       "      <th></th>\n",
       "      <th></th>\n",
       "      <th></th>\n",
       "      <th></th>\n",
       "      <th></th>\n",
       "      <th></th>\n",
       "      <th></th>\n",
       "    </tr>\n",
       "  </thead>\n",
       "  <tbody>\n",
       "    <tr>\n",
       "      <th>1896 Summer</th>\n",
       "      <td>94</td>\n",
       "      <td>94</td>\n",
       "      <td>94</td>\n",
       "      <td>84</td>\n",
       "      <td>22</td>\n",
       "      <td>28</td>\n",
       "      <td>94</td>\n",
       "      <td>94</td>\n",
       "      <td>94</td>\n",
       "      <td>94</td>\n",
       "      <td>94</td>\n",
       "      <td>94</td>\n",
       "      <td>94</td>\n",
       "      <td>32</td>\n",
       "    </tr>\n",
       "    <tr>\n",
       "      <th>1900 Summer</th>\n",
       "      <td>103</td>\n",
       "      <td>103</td>\n",
       "      <td>103</td>\n",
       "      <td>72</td>\n",
       "      <td>8</td>\n",
       "      <td>8</td>\n",
       "      <td>103</td>\n",
       "      <td>103</td>\n",
       "      <td>103</td>\n",
       "      <td>103</td>\n",
       "      <td>103</td>\n",
       "      <td>103</td>\n",
       "      <td>103</td>\n",
       "      <td>45</td>\n",
       "    </tr>\n",
       "    <tr>\n",
       "      <th>1904 Summer</th>\n",
       "      <td>55</td>\n",
       "      <td>55</td>\n",
       "      <td>55</td>\n",
       "      <td>43</td>\n",
       "      <td>10</td>\n",
       "      <td>10</td>\n",
       "      <td>55</td>\n",
       "      <td>55</td>\n",
       "      <td>55</td>\n",
       "      <td>55</td>\n",
       "      <td>55</td>\n",
       "      <td>55</td>\n",
       "      <td>55</td>\n",
       "      <td>16</td>\n",
       "    </tr>\n",
       "    <tr>\n",
       "      <th>1906 Summer</th>\n",
       "      <td>157</td>\n",
       "      <td>157</td>\n",
       "      <td>157</td>\n",
       "      <td>116</td>\n",
       "      <td>41</td>\n",
       "      <td>41</td>\n",
       "      <td>157</td>\n",
       "      <td>157</td>\n",
       "      <td>157</td>\n",
       "      <td>157</td>\n",
       "      <td>157</td>\n",
       "      <td>157</td>\n",
       "      <td>157</td>\n",
       "      <td>30</td>\n",
       "    </tr>\n",
       "    <tr>\n",
       "      <th>1908 Summer</th>\n",
       "      <td>148</td>\n",
       "      <td>148</td>\n",
       "      <td>148</td>\n",
       "      <td>113</td>\n",
       "      <td>22</td>\n",
       "      <td>24</td>\n",
       "      <td>148</td>\n",
       "      <td>148</td>\n",
       "      <td>148</td>\n",
       "      <td>148</td>\n",
       "      <td>148</td>\n",
       "      <td>148</td>\n",
       "      <td>148</td>\n",
       "      <td>21</td>\n",
       "    </tr>\n",
       "    <tr>\n",
       "      <th>1912 Summer</th>\n",
       "      <td>312</td>\n",
       "      <td>312</td>\n",
       "      <td>312</td>\n",
       "      <td>302</td>\n",
       "      <td>45</td>\n",
       "      <td>44</td>\n",
       "      <td>312</td>\n",
       "      <td>312</td>\n",
       "      <td>312</td>\n",
       "      <td>312</td>\n",
       "      <td>312</td>\n",
       "      <td>312</td>\n",
       "      <td>312</td>\n",
       "      <td>53</td>\n",
       "    </tr>\n",
       "    <tr>\n",
       "      <th>1928 Summer</th>\n",
       "      <td>399</td>\n",
       "      <td>399</td>\n",
       "      <td>399</td>\n",
       "      <td>382</td>\n",
       "      <td>78</td>\n",
       "      <td>61</td>\n",
       "      <td>399</td>\n",
       "      <td>399</td>\n",
       "      <td>399</td>\n",
       "      <td>399</td>\n",
       "      <td>399</td>\n",
       "      <td>399</td>\n",
       "      <td>399</td>\n",
       "      <td>77</td>\n",
       "    </tr>\n",
       "    <tr>\n",
       "      <th>1928 Winter</th>\n",
       "      <td>51</td>\n",
       "      <td>51</td>\n",
       "      <td>51</td>\n",
       "      <td>43</td>\n",
       "      <td>2</td>\n",
       "      <td>0</td>\n",
       "      <td>51</td>\n",
       "      <td>51</td>\n",
       "      <td>51</td>\n",
       "      <td>51</td>\n",
       "      <td>51</td>\n",
       "      <td>51</td>\n",
       "      <td>51</td>\n",
       "      <td>5</td>\n",
       "    </tr>\n",
       "    <tr>\n",
       "      <th>1932 Summer</th>\n",
       "      <td>202</td>\n",
       "      <td>202</td>\n",
       "      <td>202</td>\n",
       "      <td>199</td>\n",
       "      <td>85</td>\n",
       "      <td>46</td>\n",
       "      <td>202</td>\n",
       "      <td>202</td>\n",
       "      <td>202</td>\n",
       "      <td>202</td>\n",
       "      <td>202</td>\n",
       "      <td>202</td>\n",
       "      <td>202</td>\n",
       "      <td>43</td>\n",
       "    </tr>\n",
       "    <tr>\n",
       "      <th>1932 Winter</th>\n",
       "      <td>23</td>\n",
       "      <td>23</td>\n",
       "      <td>23</td>\n",
       "      <td>22</td>\n",
       "      <td>11</td>\n",
       "      <td>1</td>\n",
       "      <td>23</td>\n",
       "      <td>23</td>\n",
       "      <td>23</td>\n",
       "      <td>23</td>\n",
       "      <td>23</td>\n",
       "      <td>23</td>\n",
       "      <td>23</td>\n",
       "      <td>14</td>\n",
       "    </tr>\n",
       "    <tr>\n",
       "      <th>1936 Summer</th>\n",
       "      <td>581</td>\n",
       "      <td>581</td>\n",
       "      <td>581</td>\n",
       "      <td>576</td>\n",
       "      <td>108</td>\n",
       "      <td>106</td>\n",
       "      <td>581</td>\n",
       "      <td>581</td>\n",
       "      <td>581</td>\n",
       "      <td>581</td>\n",
       "      <td>581</td>\n",
       "      <td>581</td>\n",
       "      <td>581</td>\n",
       "      <td>224</td>\n",
       "    </tr>\n",
       "    <tr>\n",
       "      <th>1936 Winter</th>\n",
       "      <td>67</td>\n",
       "      <td>67</td>\n",
       "      <td>67</td>\n",
       "      <td>67</td>\n",
       "      <td>7</td>\n",
       "      <td>6</td>\n",
       "      <td>67</td>\n",
       "      <td>67</td>\n",
       "      <td>67</td>\n",
       "      <td>67</td>\n",
       "      <td>67</td>\n",
       "      <td>67</td>\n",
       "      <td>67</td>\n",
       "      <td>7</td>\n",
       "    </tr>\n",
       "    <tr>\n",
       "      <th>1952 Summer</th>\n",
       "      <td>365</td>\n",
       "      <td>365</td>\n",
       "      <td>365</td>\n",
       "      <td>365</td>\n",
       "      <td>73</td>\n",
       "      <td>76</td>\n",
       "      <td>365</td>\n",
       "      <td>365</td>\n",
       "      <td>365</td>\n",
       "      <td>365</td>\n",
       "      <td>365</td>\n",
       "      <td>365</td>\n",
       "      <td>365</td>\n",
       "      <td>40</td>\n",
       "    </tr>\n",
       "    <tr>\n",
       "      <th>1952 Winter</th>\n",
       "      <td>77</td>\n",
       "      <td>77</td>\n",
       "      <td>77</td>\n",
       "      <td>77</td>\n",
       "      <td>0</td>\n",
       "      <td>2</td>\n",
       "      <td>77</td>\n",
       "      <td>77</td>\n",
       "      <td>77</td>\n",
       "      <td>77</td>\n",
       "      <td>77</td>\n",
       "      <td>77</td>\n",
       "      <td>77</td>\n",
       "      <td>12</td>\n",
       "    </tr>\n",
       "    <tr>\n",
       "      <th>1956 Summer</th>\n",
       "      <td>261</td>\n",
       "      <td>261</td>\n",
       "      <td>261</td>\n",
       "      <td>261</td>\n",
       "      <td>105</td>\n",
       "      <td>105</td>\n",
       "      <td>261</td>\n",
       "      <td>261</td>\n",
       "      <td>261</td>\n",
       "      <td>261</td>\n",
       "      <td>261</td>\n",
       "      <td>261</td>\n",
       "      <td>261</td>\n",
       "      <td>52</td>\n",
       "    </tr>\n",
       "    <tr>\n",
       "      <th>1956 Winter</th>\n",
       "      <td>90</td>\n",
       "      <td>90</td>\n",
       "      <td>90</td>\n",
       "      <td>90</td>\n",
       "      <td>18</td>\n",
       "      <td>20</td>\n",
       "      <td>90</td>\n",
       "      <td>90</td>\n",
       "      <td>90</td>\n",
       "      <td>90</td>\n",
       "      <td>90</td>\n",
       "      <td>90</td>\n",
       "      <td>90</td>\n",
       "      <td>2</td>\n",
       "    </tr>\n",
       "    <tr>\n",
       "      <th>1960 Summer</th>\n",
       "      <td>425</td>\n",
       "      <td>425</td>\n",
       "      <td>425</td>\n",
       "      <td>425</td>\n",
       "      <td>425</td>\n",
       "      <td>425</td>\n",
       "      <td>425</td>\n",
       "      <td>425</td>\n",
       "      <td>425</td>\n",
       "      <td>425</td>\n",
       "      <td>425</td>\n",
       "      <td>425</td>\n",
       "      <td>425</td>\n",
       "      <td>89</td>\n",
       "    </tr>\n",
       "    <tr>\n",
       "      <th>1960 Winter</th>\n",
       "      <td>110</td>\n",
       "      <td>110</td>\n",
       "      <td>110</td>\n",
       "      <td>110</td>\n",
       "      <td>55</td>\n",
       "      <td>55</td>\n",
       "      <td>110</td>\n",
       "      <td>110</td>\n",
       "      <td>110</td>\n",
       "      <td>110</td>\n",
       "      <td>110</td>\n",
       "      <td>110</td>\n",
       "      <td>110</td>\n",
       "      <td>9</td>\n",
       "    </tr>\n",
       "    <tr>\n",
       "      <th>1964 Summer</th>\n",
       "      <td>478</td>\n",
       "      <td>478</td>\n",
       "      <td>478</td>\n",
       "      <td>478</td>\n",
       "      <td>478</td>\n",
       "      <td>478</td>\n",
       "      <td>478</td>\n",
       "      <td>478</td>\n",
       "      <td>478</td>\n",
       "      <td>478</td>\n",
       "      <td>478</td>\n",
       "      <td>478</td>\n",
       "      <td>478</td>\n",
       "      <td>116</td>\n",
       "    </tr>\n",
       "    <tr>\n",
       "      <th>1964 Winter</th>\n",
       "      <td>144</td>\n",
       "      <td>144</td>\n",
       "      <td>144</td>\n",
       "      <td>144</td>\n",
       "      <td>143</td>\n",
       "      <td>143</td>\n",
       "      <td>144</td>\n",
       "      <td>144</td>\n",
       "      <td>144</td>\n",
       "      <td>144</td>\n",
       "      <td>144</td>\n",
       "      <td>144</td>\n",
       "      <td>144</td>\n",
       "      <td>10</td>\n",
       "    </tr>\n",
       "    <tr>\n",
       "      <th>1992 Summer</th>\n",
       "      <td>653</td>\n",
       "      <td>653</td>\n",
       "      <td>653</td>\n",
       "      <td>653</td>\n",
       "      <td>650</td>\n",
       "      <td>650</td>\n",
       "      <td>653</td>\n",
       "      <td>653</td>\n",
       "      <td>653</td>\n",
       "      <td>653</td>\n",
       "      <td>653</td>\n",
       "      <td>653</td>\n",
       "      <td>653</td>\n",
       "      <td>198</td>\n",
       "    </tr>\n",
       "    <tr>\n",
       "      <th>1992 Winter</th>\n",
       "      <td>193</td>\n",
       "      <td>193</td>\n",
       "      <td>193</td>\n",
       "      <td>193</td>\n",
       "      <td>192</td>\n",
       "      <td>192</td>\n",
       "      <td>193</td>\n",
       "      <td>193</td>\n",
       "      <td>193</td>\n",
       "      <td>193</td>\n",
       "      <td>193</td>\n",
       "      <td>193</td>\n",
       "      <td>193</td>\n",
       "      <td>38</td>\n",
       "    </tr>\n",
       "    <tr>\n",
       "      <th>1994 Winter</th>\n",
       "      <td>184</td>\n",
       "      <td>184</td>\n",
       "      <td>184</td>\n",
       "      <td>184</td>\n",
       "      <td>184</td>\n",
       "      <td>184</td>\n",
       "      <td>184</td>\n",
       "      <td>184</td>\n",
       "      <td>184</td>\n",
       "      <td>184</td>\n",
       "      <td>184</td>\n",
       "      <td>184</td>\n",
       "      <td>184</td>\n",
       "      <td>40</td>\n",
       "    </tr>\n",
       "    <tr>\n",
       "      <th>1996 Summer</th>\n",
       "      <td>626</td>\n",
       "      <td>626</td>\n",
       "      <td>626</td>\n",
       "      <td>626</td>\n",
       "      <td>626</td>\n",
       "      <td>625</td>\n",
       "      <td>626</td>\n",
       "      <td>626</td>\n",
       "      <td>626</td>\n",
       "      <td>626</td>\n",
       "      <td>626</td>\n",
       "      <td>626</td>\n",
       "      <td>626</td>\n",
       "      <td>124</td>\n",
       "    </tr>\n",
       "    <tr>\n",
       "      <th>1998 Winter</th>\n",
       "      <td>217</td>\n",
       "      <td>217</td>\n",
       "      <td>217</td>\n",
       "      <td>217</td>\n",
       "      <td>217</td>\n",
       "      <td>217</td>\n",
       "      <td>217</td>\n",
       "      <td>217</td>\n",
       "      <td>217</td>\n",
       "      <td>217</td>\n",
       "      <td>217</td>\n",
       "      <td>217</td>\n",
       "      <td>217</td>\n",
       "      <td>44</td>\n",
       "    </tr>\n",
       "    <tr>\n",
       "      <th>2000 Summer</th>\n",
       "      <td>567</td>\n",
       "      <td>567</td>\n",
       "      <td>567</td>\n",
       "      <td>567</td>\n",
       "      <td>565</td>\n",
       "      <td>565</td>\n",
       "      <td>567</td>\n",
       "      <td>567</td>\n",
       "      <td>567</td>\n",
       "      <td>567</td>\n",
       "      <td>567</td>\n",
       "      <td>567</td>\n",
       "      <td>567</td>\n",
       "      <td>118</td>\n",
       "    </tr>\n",
       "    <tr>\n",
       "      <th>2002 Winter</th>\n",
       "      <td>259</td>\n",
       "      <td>259</td>\n",
       "      <td>259</td>\n",
       "      <td>259</td>\n",
       "      <td>259</td>\n",
       "      <td>257</td>\n",
       "      <td>259</td>\n",
       "      <td>259</td>\n",
       "      <td>259</td>\n",
       "      <td>259</td>\n",
       "      <td>259</td>\n",
       "      <td>259</td>\n",
       "      <td>259</td>\n",
       "      <td>61</td>\n",
       "    </tr>\n",
       "    <tr>\n",
       "      <th>2004 Summer</th>\n",
       "      <td>592</td>\n",
       "      <td>592</td>\n",
       "      <td>592</td>\n",
       "      <td>592</td>\n",
       "      <td>592</td>\n",
       "      <td>592</td>\n",
       "      <td>592</td>\n",
       "      <td>592</td>\n",
       "      <td>592</td>\n",
       "      <td>592</td>\n",
       "      <td>592</td>\n",
       "      <td>592</td>\n",
       "      <td>592</td>\n",
       "      <td>149</td>\n",
       "    </tr>\n",
       "    <tr>\n",
       "      <th>2006 Winter</th>\n",
       "      <td>263</td>\n",
       "      <td>263</td>\n",
       "      <td>263</td>\n",
       "      <td>263</td>\n",
       "      <td>263</td>\n",
       "      <td>263</td>\n",
       "      <td>263</td>\n",
       "      <td>263</td>\n",
       "      <td>263</td>\n",
       "      <td>263</td>\n",
       "      <td>263</td>\n",
       "      <td>263</td>\n",
       "      <td>263</td>\n",
       "      <td>54</td>\n",
       "    </tr>\n",
       "    <tr>\n",
       "      <th>2008 Summer</th>\n",
       "      <td>558</td>\n",
       "      <td>558</td>\n",
       "      <td>558</td>\n",
       "      <td>558</td>\n",
       "      <td>558</td>\n",
       "      <td>558</td>\n",
       "      <td>558</td>\n",
       "      <td>558</td>\n",
       "      <td>558</td>\n",
       "      <td>558</td>\n",
       "      <td>558</td>\n",
       "      <td>558</td>\n",
       "      <td>558</td>\n",
       "      <td>99</td>\n",
       "    </tr>\n",
       "    <tr>\n",
       "      <th>2010 Winter</th>\n",
       "      <td>259</td>\n",
       "      <td>259</td>\n",
       "      <td>259</td>\n",
       "      <td>259</td>\n",
       "      <td>259</td>\n",
       "      <td>259</td>\n",
       "      <td>259</td>\n",
       "      <td>259</td>\n",
       "      <td>259</td>\n",
       "      <td>259</td>\n",
       "      <td>259</td>\n",
       "      <td>259</td>\n",
       "      <td>259</td>\n",
       "      <td>54</td>\n",
       "    </tr>\n",
       "    <tr>\n",
       "      <th>2012 Summer</th>\n",
       "      <td>510</td>\n",
       "      <td>510</td>\n",
       "      <td>510</td>\n",
       "      <td>510</td>\n",
       "      <td>510</td>\n",
       "      <td>510</td>\n",
       "      <td>510</td>\n",
       "      <td>510</td>\n",
       "      <td>510</td>\n",
       "      <td>510</td>\n",
       "      <td>510</td>\n",
       "      <td>510</td>\n",
       "      <td>510</td>\n",
       "      <td>94</td>\n",
       "    </tr>\n",
       "    <tr>\n",
       "      <th>2014 Winter</th>\n",
       "      <td>271</td>\n",
       "      <td>271</td>\n",
       "      <td>271</td>\n",
       "      <td>271</td>\n",
       "      <td>271</td>\n",
       "      <td>256</td>\n",
       "      <td>271</td>\n",
       "      <td>271</td>\n",
       "      <td>271</td>\n",
       "      <td>271</td>\n",
       "      <td>271</td>\n",
       "      <td>271</td>\n",
       "      <td>271</td>\n",
       "      <td>36</td>\n",
       "    </tr>\n",
       "    <tr>\n",
       "      <th>2016 Summer</th>\n",
       "      <td>536</td>\n",
       "      <td>536</td>\n",
       "      <td>536</td>\n",
       "      <td>536</td>\n",
       "      <td>535</td>\n",
       "      <td>535</td>\n",
       "      <td>536</td>\n",
       "      <td>536</td>\n",
       "      <td>536</td>\n",
       "      <td>536</td>\n",
       "      <td>536</td>\n",
       "      <td>536</td>\n",
       "      <td>536</td>\n",
       "      <td>159</td>\n",
       "    </tr>\n",
       "  </tbody>\n",
       "</table>\n",
       "</div>"
      ],
      "text/plain": [
       "              ID  Name  Sex  Age  Height  Weight  Team  NOC  Year  Season  \\\n",
       "Games                                                                       \n",
       "1896 Summer   94    94   94   84      22      28    94   94    94      94   \n",
       "1900 Summer  103   103  103   72       8       8   103  103   103     103   \n",
       "1904 Summer   55    55   55   43      10      10    55   55    55      55   \n",
       "1906 Summer  157   157  157  116      41      41   157  157   157     157   \n",
       "1908 Summer  148   148  148  113      22      24   148  148   148     148   \n",
       "1912 Summer  312   312  312  302      45      44   312  312   312     312   \n",
       "1928 Summer  399   399  399  382      78      61   399  399   399     399   \n",
       "1928 Winter   51    51   51   43       2       0    51   51    51      51   \n",
       "1932 Summer  202   202  202  199      85      46   202  202   202     202   \n",
       "1932 Winter   23    23   23   22      11       1    23   23    23      23   \n",
       "1936 Summer  581   581  581  576     108     106   581  581   581     581   \n",
       "1936 Winter   67    67   67   67       7       6    67   67    67      67   \n",
       "1952 Summer  365   365  365  365      73      76   365  365   365     365   \n",
       "1952 Winter   77    77   77   77       0       2    77   77    77      77   \n",
       "1956 Summer  261   261  261  261     105     105   261  261   261     261   \n",
       "1956 Winter   90    90   90   90      18      20    90   90    90      90   \n",
       "1960 Summer  425   425  425  425     425     425   425  425   425     425   \n",
       "1960 Winter  110   110  110  110      55      55   110  110   110     110   \n",
       "1964 Summer  478   478  478  478     478     478   478  478   478     478   \n",
       "1964 Winter  144   144  144  144     143     143   144  144   144     144   \n",
       "1992 Summer  653   653  653  653     650     650   653  653   653     653   \n",
       "1992 Winter  193   193  193  193     192     192   193  193   193     193   \n",
       "1994 Winter  184   184  184  184     184     184   184  184   184     184   \n",
       "1996 Summer  626   626  626  626     626     625   626  626   626     626   \n",
       "1998 Winter  217   217  217  217     217     217   217  217   217     217   \n",
       "2000 Summer  567   567  567  567     565     565   567  567   567     567   \n",
       "2002 Winter  259   259  259  259     259     257   259  259   259     259   \n",
       "2004 Summer  592   592  592  592     592     592   592  592   592     592   \n",
       "2006 Winter  263   263  263  263     263     263   263  263   263     263   \n",
       "2008 Summer  558   558  558  558     558     558   558  558   558     558   \n",
       "2010 Winter  259   259  259  259     259     259   259  259   259     259   \n",
       "2012 Summer  510   510  510  510     510     510   510  510   510     510   \n",
       "2014 Winter  271   271  271  271     271     256   271  271   271     271   \n",
       "2016 Summer  536   536  536  536     535     535   536  536   536     536   \n",
       "\n",
       "             City  Sport  Event  Medal  \n",
       "Games                                   \n",
       "1896 Summer    94     94     94     32  \n",
       "1900 Summer   103    103    103     45  \n",
       "1904 Summer    55     55     55     16  \n",
       "1906 Summer   157    157    157     30  \n",
       "1908 Summer   148    148    148     21  \n",
       "1912 Summer   312    312    312     53  \n",
       "1928 Summer   399    399    399     77  \n",
       "1928 Winter    51     51     51      5  \n",
       "1932 Summer   202    202    202     43  \n",
       "1932 Winter    23     23     23     14  \n",
       "1936 Summer   581    581    581    224  \n",
       "1936 Winter    67     67     67      7  \n",
       "1952 Summer   365    365    365     40  \n",
       "1952 Winter    77     77     77     12  \n",
       "1956 Summer   261    261    261     52  \n",
       "1956 Winter    90     90     90      2  \n",
       "1960 Summer   425    425    425     89  \n",
       "1960 Winter   110    110    110      9  \n",
       "1964 Summer   478    478    478    116  \n",
       "1964 Winter   144    144    144     10  \n",
       "1992 Summer   653    653    653    198  \n",
       "1992 Winter   193    193    193     38  \n",
       "1994 Winter   184    184    184     40  \n",
       "1996 Summer   626    626    626    124  \n",
       "1998 Winter   217    217    217     44  \n",
       "2000 Summer   567    567    567    118  \n",
       "2002 Winter   259    259    259     61  \n",
       "2004 Summer   592    592    592    149  \n",
       "2006 Winter   263    263    263     54  \n",
       "2008 Summer   558    558    558     99  \n",
       "2010 Winter   259    259    259     54  \n",
       "2012 Summer   510    510    510     94  \n",
       "2014 Winter   271    271    271     36  \n",
       "2016 Summer   536    536    536    159  "
      ]
     },
     "execution_count": 3,
     "metadata": {},
     "output_type": "execute_result"
    }
   ],
   "source": [
    "# uppg 1a\n",
    "\n",
    "df_ger=df[df[\"NOC\"]==\"GER\"]\n",
    "\n",
    "\n",
    "\n",
    "df_ger.groupby(\"Games\").count()\n",
    "\n"
   ]
  },
  {
   "cell_type": "code",
   "execution_count": 11,
   "metadata": {},
   "outputs": [
    {
     "name": "stderr",
     "output_type": "stream",
     "text": [
      "C:\\Users\\Björn ITHS\\AppData\\Local\\Temp\\ipykernel_12704\\1928704119.py:3: SettingWithCopyWarning:\n",
      "\n",
      "\n",
      "A value is trying to be set on a copy of a slice from a DataFrame.\n",
      "Try using .loc[row_indexer,col_indexer] = value instead\n",
      "\n",
      "See the caveats in the documentation: https://pandas.pydata.org/pandas-docs/stable/user_guide/indexing.html#returning-a-view-versus-a-copy\n",
      "\n"
     ]
    },
    {
     "data": {
      "text/html": [
       "<div>\n",
       "<style scoped>\n",
       "    .dataframe tbody tr th:only-of-type {\n",
       "        vertical-align: middle;\n",
       "    }\n",
       "\n",
       "    .dataframe tbody tr th {\n",
       "        vertical-align: top;\n",
       "    }\n",
       "\n",
       "    .dataframe thead th {\n",
       "        text-align: right;\n",
       "    }\n",
       "</style>\n",
       "<table border=\"1\" class=\"dataframe\">\n",
       "  <thead>\n",
       "    <tr style=\"text-align: right;\">\n",
       "      <th></th>\n",
       "      <th>ID</th>\n",
       "      <th>Name</th>\n",
       "      <th>Sex</th>\n",
       "      <th>Age</th>\n",
       "      <th>Height</th>\n",
       "      <th>Weight</th>\n",
       "      <th>Team</th>\n",
       "      <th>NOC</th>\n",
       "      <th>Games</th>\n",
       "      <th>Year</th>\n",
       "      <th>Season</th>\n",
       "      <th>City</th>\n",
       "      <th>Sport</th>\n",
       "      <th>Event</th>\n",
       "      <th>Medal</th>\n",
       "      <th>Medaltot</th>\n",
       "    </tr>\n",
       "  </thead>\n",
       "  <tbody>\n",
       "    <tr>\n",
       "      <th>1244</th>\n",
       "      <td>702</td>\n",
       "      <td>Ronny Ackermann</td>\n",
       "      <td>M</td>\n",
       "      <td>24.0</td>\n",
       "      <td>184.0</td>\n",
       "      <td>69.0</td>\n",
       "      <td>Germany</td>\n",
       "      <td>GER</td>\n",
       "      <td>2002 Winter</td>\n",
       "      <td>2002</td>\n",
       "      <td>Winter</td>\n",
       "      <td>Salt Lake City</td>\n",
       "      <td>Nordic Combined</td>\n",
       "      <td>Nordic Combined Men's Team</td>\n",
       "      <td>Silver</td>\n",
       "      <td>1</td>\n",
       "    </tr>\n",
       "    <tr>\n",
       "      <th>1246</th>\n",
       "      <td>702</td>\n",
       "      <td>Ronny Ackermann</td>\n",
       "      <td>M</td>\n",
       "      <td>24.0</td>\n",
       "      <td>184.0</td>\n",
       "      <td>69.0</td>\n",
       "      <td>Germany</td>\n",
       "      <td>GER</td>\n",
       "      <td>2002 Winter</td>\n",
       "      <td>2002</td>\n",
       "      <td>Winter</td>\n",
       "      <td>Salt Lake City</td>\n",
       "      <td>Nordic Combined</td>\n",
       "      <td>Nordic Combined Men's Sprint</td>\n",
       "      <td>Silver</td>\n",
       "      <td>1</td>\n",
       "    </tr>\n",
       "    <tr>\n",
       "      <th>1247</th>\n",
       "      <td>702</td>\n",
       "      <td>Ronny Ackermann</td>\n",
       "      <td>M</td>\n",
       "      <td>28.0</td>\n",
       "      <td>184.0</td>\n",
       "      <td>69.0</td>\n",
       "      <td>Germany</td>\n",
       "      <td>GER</td>\n",
       "      <td>2006 Winter</td>\n",
       "      <td>2006</td>\n",
       "      <td>Winter</td>\n",
       "      <td>Torino</td>\n",
       "      <td>Nordic Combined</td>\n",
       "      <td>Nordic Combined Men's Team</td>\n",
       "      <td>Silver</td>\n",
       "      <td>1</td>\n",
       "    </tr>\n",
       "    <tr>\n",
       "      <th>1373</th>\n",
       "      <td>775</td>\n",
       "      <td>Otto Adam</td>\n",
       "      <td>M</td>\n",
       "      <td>26.0</td>\n",
       "      <td>NaN</td>\n",
       "      <td>NaN</td>\n",
       "      <td>Germany</td>\n",
       "      <td>GER</td>\n",
       "      <td>1936 Summer</td>\n",
       "      <td>1936</td>\n",
       "      <td>Summer</td>\n",
       "      <td>Berlin</td>\n",
       "      <td>Fencing</td>\n",
       "      <td>Fencing Men's Foil, Team</td>\n",
       "      <td>Bronze</td>\n",
       "      <td>1</td>\n",
       "    </tr>\n",
       "    <tr>\n",
       "      <th>1533</th>\n",
       "      <td>849</td>\n",
       "      <td>Filip Kamil Adamski</td>\n",
       "      <td>M</td>\n",
       "      <td>29.0</td>\n",
       "      <td>189.0</td>\n",
       "      <td>87.0</td>\n",
       "      <td>Germany</td>\n",
       "      <td>GER</td>\n",
       "      <td>2012 Summer</td>\n",
       "      <td>2012</td>\n",
       "      <td>Summer</td>\n",
       "      <td>London</td>\n",
       "      <td>Rowing</td>\n",
       "      <td>Rowing Men's Coxed Eights</td>\n",
       "      <td>Gold</td>\n",
       "      <td>1</td>\n",
       "    </tr>\n",
       "    <tr>\n",
       "      <th>...</th>\n",
       "      <td>...</td>\n",
       "      <td>...</td>\n",
       "      <td>...</td>\n",
       "      <td>...</td>\n",
       "      <td>...</td>\n",
       "      <td>...</td>\n",
       "      <td>...</td>\n",
       "      <td>...</td>\n",
       "      <td>...</td>\n",
       "      <td>...</td>\n",
       "      <td>...</td>\n",
       "      <td>...</td>\n",
       "      <td>...</td>\n",
       "      <td>...</td>\n",
       "      <td>...</td>\n",
       "      <td>...</td>\n",
       "    </tr>\n",
       "    <tr>\n",
       "      <th>269989</th>\n",
       "      <td>135071</td>\n",
       "      <td>Olaf Zinke</td>\n",
       "      <td>M</td>\n",
       "      <td>25.0</td>\n",
       "      <td>182.0</td>\n",
       "      <td>80.0</td>\n",
       "      <td>Germany</td>\n",
       "      <td>GER</td>\n",
       "      <td>1992 Winter</td>\n",
       "      <td>1992</td>\n",
       "      <td>Winter</td>\n",
       "      <td>Albertville</td>\n",
       "      <td>Speed Skating</td>\n",
       "      <td>Speed Skating Men's 1,000 metres</td>\n",
       "      <td>Gold</td>\n",
       "      <td>1</td>\n",
       "    </tr>\n",
       "    <tr>\n",
       "      <th>270896</th>\n",
       "      <td>135474</td>\n",
       "      <td>Albert Hermann Zrner</td>\n",
       "      <td>M</td>\n",
       "      <td>18.0</td>\n",
       "      <td>NaN</td>\n",
       "      <td>NaN</td>\n",
       "      <td>Germany</td>\n",
       "      <td>GER</td>\n",
       "      <td>1908 Summer</td>\n",
       "      <td>1908</td>\n",
       "      <td>Summer</td>\n",
       "      <td>London</td>\n",
       "      <td>Diving</td>\n",
       "      <td>Diving Men's Springboard</td>\n",
       "      <td>Gold</td>\n",
       "      <td>1</td>\n",
       "    </tr>\n",
       "    <tr>\n",
       "      <th>270898</th>\n",
       "      <td>135474</td>\n",
       "      <td>Albert Hermann Zrner</td>\n",
       "      <td>M</td>\n",
       "      <td>22.0</td>\n",
       "      <td>NaN</td>\n",
       "      <td>NaN</td>\n",
       "      <td>Germany</td>\n",
       "      <td>GER</td>\n",
       "      <td>1912 Summer</td>\n",
       "      <td>1912</td>\n",
       "      <td>Summer</td>\n",
       "      <td>Stockholm</td>\n",
       "      <td>Diving</td>\n",
       "      <td>Diving Men's Platform</td>\n",
       "      <td>Silver</td>\n",
       "      <td>1</td>\n",
       "    </tr>\n",
       "    <tr>\n",
       "      <th>271009</th>\n",
       "      <td>135520</td>\n",
       "      <td>Julia Zwehl</td>\n",
       "      <td>F</td>\n",
       "      <td>28.0</td>\n",
       "      <td>167.0</td>\n",
       "      <td>60.0</td>\n",
       "      <td>Germany</td>\n",
       "      <td>GER</td>\n",
       "      <td>2004 Summer</td>\n",
       "      <td>2004</td>\n",
       "      <td>Summer</td>\n",
       "      <td>Athina</td>\n",
       "      <td>Hockey</td>\n",
       "      <td>Hockey Women's Hockey</td>\n",
       "      <td>Gold</td>\n",
       "      <td>1</td>\n",
       "    </tr>\n",
       "    <tr>\n",
       "      <th>271019</th>\n",
       "      <td>135525</td>\n",
       "      <td>Martin Zwicker</td>\n",
       "      <td>M</td>\n",
       "      <td>29.0</td>\n",
       "      <td>175.0</td>\n",
       "      <td>64.0</td>\n",
       "      <td>Germany</td>\n",
       "      <td>GER</td>\n",
       "      <td>2016 Summer</td>\n",
       "      <td>2016</td>\n",
       "      <td>Summer</td>\n",
       "      <td>Rio de Janeiro</td>\n",
       "      <td>Hockey</td>\n",
       "      <td>Hockey Men's Hockey</td>\n",
       "      <td>Bronze</td>\n",
       "      <td>1</td>\n",
       "    </tr>\n",
       "  </tbody>\n",
       "</table>\n",
       "<p>2165 rows × 16 columns</p>\n",
       "</div>"
      ],
      "text/plain": [
       "            ID                  Name Sex   Age  Height  Weight     Team  NOC  \\\n",
       "1244       702       Ronny Ackermann   M  24.0   184.0    69.0  Germany  GER   \n",
       "1246       702       Ronny Ackermann   M  24.0   184.0    69.0  Germany  GER   \n",
       "1247       702       Ronny Ackermann   M  28.0   184.0    69.0  Germany  GER   \n",
       "1373       775             Otto Adam   M  26.0     NaN     NaN  Germany  GER   \n",
       "1533       849   Filip Kamil Adamski   M  29.0   189.0    87.0  Germany  GER   \n",
       "...        ...                   ...  ..   ...     ...     ...      ...  ...   \n",
       "269989  135071            Olaf Zinke   M  25.0   182.0    80.0  Germany  GER   \n",
       "270896  135474  Albert Hermann Zrner   M  18.0     NaN     NaN  Germany  GER   \n",
       "270898  135474  Albert Hermann Zrner   M  22.0     NaN     NaN  Germany  GER   \n",
       "271009  135520           Julia Zwehl   F  28.0   167.0    60.0  Germany  GER   \n",
       "271019  135525        Martin Zwicker   M  29.0   175.0    64.0  Germany  GER   \n",
       "\n",
       "              Games  Year  Season            City            Sport  \\\n",
       "1244    2002 Winter  2002  Winter  Salt Lake City  Nordic Combined   \n",
       "1246    2002 Winter  2002  Winter  Salt Lake City  Nordic Combined   \n",
       "1247    2006 Winter  2006  Winter          Torino  Nordic Combined   \n",
       "1373    1936 Summer  1936  Summer          Berlin          Fencing   \n",
       "1533    2012 Summer  2012  Summer          London           Rowing   \n",
       "...             ...   ...     ...             ...              ...   \n",
       "269989  1992 Winter  1992  Winter     Albertville    Speed Skating   \n",
       "270896  1908 Summer  1908  Summer          London           Diving   \n",
       "270898  1912 Summer  1912  Summer       Stockholm           Diving   \n",
       "271009  2004 Summer  2004  Summer          Athina           Hockey   \n",
       "271019  2016 Summer  2016  Summer  Rio de Janeiro           Hockey   \n",
       "\n",
       "                                   Event   Medal  Medaltot  \n",
       "1244          Nordic Combined Men's Team  Silver         1  \n",
       "1246        Nordic Combined Men's Sprint  Silver         1  \n",
       "1247          Nordic Combined Men's Team  Silver         1  \n",
       "1373            Fencing Men's Foil, Team  Bronze         1  \n",
       "1533           Rowing Men's Coxed Eights    Gold         1  \n",
       "...                                  ...     ...       ...  \n",
       "269989  Speed Skating Men's 1,000 metres    Gold         1  \n",
       "270896          Diving Men's Springboard    Gold         1  \n",
       "270898             Diving Men's Platform  Silver         1  \n",
       "271009             Hockey Women's Hockey    Gold         1  \n",
       "271019               Hockey Men's Hockey  Bronze         1  \n",
       "\n",
       "[2165 rows x 16 columns]"
      ]
     },
     "execution_count": 11,
     "metadata": {},
     "output_type": "execute_result"
    }
   ],
   "source": [
    "df_ger_2014=df_ger[df_ger[\"Games\"]==\"2014 Winter\"]\n",
    "df_ger_medal=df_ger[df_ger[\"Medal\"].isin([\"Gold\", \"Silver\", \"Bronze\"])]\n",
    "df_ger_medal[\"Medaltot\"]=1\n",
    "\n",
    "\n",
    "df_ger_2014_medal=df_ger_2014[df_ger_2014[\"Medal\"].isin([\"Gold\", \"Silver\", \"Bronze\"])]\n",
    "\n",
    "df_ger_medal"
   ]
  },
  {
   "cell_type": "code",
   "execution_count": 51,
   "metadata": {},
   "outputs": [
    {
     "data": {
      "application/vnd.plotly.v1+json": {
       "config": {
        "plotlyServerURL": "https://plot.ly"
       },
       "data": [
        {
         "alignmentgroup": "True",
         "hovertemplate": "Medal=Gold<br>Year=2012<br>Sport=%{x}<br>Medaltot=%{y}<extra></extra>",
         "legendgroup": "Gold",
         "marker": {
          "color": "#636efa",
          "pattern": {
           "shape": ""
          }
         },
         "name": "Gold",
         "offsetgroup": "Gold",
         "orientation": "v",
         "showlegend": true,
         "textposition": "auto",
         "type": "bar",
         "x": [
          "Rowing",
          "Rowing",
          "Athletics",
          "Rowing",
          "Rowing",
          "Rowing",
          "Rowing",
          "Rowing",
          "Rowing",
          "Rowing",
          "Rowing",
          "Rowing",
          "Rowing",
          "Rowing"
         ],
         "xaxis": "x",
         "y": [
          1,
          1,
          1,
          1,
          1,
          1,
          1,
          1,
          1,
          1,
          1,
          1,
          1,
          1
         ],
         "yaxis": "y"
        },
        {
         "alignmentgroup": "True",
         "hovertemplate": "Medal=Silver<br>Year=2012<br>Sport=%{x}<br>Medaltot=%{y}<extra></extra>",
         "legendgroup": "Silver",
         "marker": {
          "color": "#EF553B",
          "pattern": {
           "shape": ""
          }
         },
         "name": "Silver",
         "offsetgroup": "Silver",
         "orientation": "v",
         "showlegend": true,
         "textposition": "auto",
         "type": "bar",
         "x": [
          "Rowing",
          "Swimming",
          "Athletics",
          "Rowing",
          "Athletics",
          "Rowing",
          "Athletics",
          "Athletics",
          "Rowing"
         ],
         "xaxis": "x",
         "y": [
          1,
          1,
          1,
          1,
          1,
          1,
          1,
          1,
          1
         ],
         "yaxis": "y"
        },
        {
         "alignmentgroup": "True",
         "hovertemplate": "Medal=Bronze<br>Year=2012<br>Sport=%{x}<br>Medaltot=%{y}<extra></extra>",
         "legendgroup": "Bronze",
         "marker": {
          "color": "#00cc96",
          "pattern": {
           "shape": ""
          }
         },
         "name": "Bronze",
         "offsetgroup": "Bronze",
         "orientation": "v",
         "showlegend": true,
         "textposition": "auto",
         "type": "bar",
         "x": [
          "Athletics",
          "Athletics",
          "Athletics"
         ],
         "xaxis": "x",
         "y": [
          1,
          1,
          1
         ],
         "yaxis": "y"
        }
       ],
       "frames": [
        {
         "data": [
          {
           "alignmentgroup": "True",
           "hovertemplate": "Medal=Gold<br>Year=2012<br>Sport=%{x}<br>Medaltot=%{y}<extra></extra>",
           "legendgroup": "Gold",
           "marker": {
            "color": "#636efa",
            "pattern": {
             "shape": ""
            }
           },
           "name": "Gold",
           "offsetgroup": "Gold",
           "orientation": "v",
           "showlegend": true,
           "textposition": "auto",
           "type": "bar",
           "x": [
            "Rowing",
            "Rowing",
            "Athletics",
            "Rowing",
            "Rowing",
            "Rowing",
            "Rowing",
            "Rowing",
            "Rowing",
            "Rowing",
            "Rowing",
            "Rowing",
            "Rowing",
            "Rowing"
           ],
           "xaxis": "x",
           "y": [
            1,
            1,
            1,
            1,
            1,
            1,
            1,
            1,
            1,
            1,
            1,
            1,
            1,
            1
           ],
           "yaxis": "y"
          },
          {
           "alignmentgroup": "True",
           "hovertemplate": "Medal=Silver<br>Year=2012<br>Sport=%{x}<br>Medaltot=%{y}<extra></extra>",
           "legendgroup": "Silver",
           "marker": {
            "color": "#EF553B",
            "pattern": {
             "shape": ""
            }
           },
           "name": "Silver",
           "offsetgroup": "Silver",
           "orientation": "v",
           "showlegend": true,
           "textposition": "auto",
           "type": "bar",
           "x": [
            "Rowing",
            "Swimming",
            "Athletics",
            "Rowing",
            "Athletics",
            "Rowing",
            "Athletics",
            "Athletics",
            "Rowing"
           ],
           "xaxis": "x",
           "y": [
            1,
            1,
            1,
            1,
            1,
            1,
            1,
            1,
            1
           ],
           "yaxis": "y"
          },
          {
           "alignmentgroup": "True",
           "hovertemplate": "Medal=Bronze<br>Year=2012<br>Sport=%{x}<br>Medaltot=%{y}<extra></extra>",
           "legendgroup": "Bronze",
           "marker": {
            "color": "#00cc96",
            "pattern": {
             "shape": ""
            }
           },
           "name": "Bronze",
           "offsetgroup": "Bronze",
           "orientation": "v",
           "showlegend": true,
           "textposition": "auto",
           "type": "bar",
           "x": [
            "Athletics",
            "Athletics",
            "Athletics"
           ],
           "xaxis": "x",
           "y": [
            1,
            1,
            1
           ],
           "yaxis": "y"
          }
         ],
         "name": "2012"
        },
        {
         "data": [
          {
           "alignmentgroup": "True",
           "hovertemplate": "Medal=Gold<br>Year=1936<br>Sport=%{x}<br>Medaltot=%{y}<extra></extra>",
           "legendgroup": "Gold",
           "marker": {
            "color": "#636efa",
            "pattern": {
             "shape": ""
            }
           },
           "name": "Gold",
           "offsetgroup": "Gold",
           "orientation": "v",
           "showlegend": true,
           "textposition": "auto",
           "type": "bar",
           "x": [
            "Rowing",
            "Rowing",
            "Rowing",
            "Rowing",
            "Rowing",
            "Athletics",
            "Rowing",
            "Rowing",
            "Athletics",
            "Rowing",
            "Rowing",
            "Athletics",
            "Rowing",
            "Rowing",
            "Rowing",
            "Rowing",
            "Athletics",
            "Rowing",
            "Shooting",
            "Rowing",
            "Athletics"
           ],
           "xaxis": "x",
           "y": [
            1,
            1,
            1,
            1,
            1,
            1,
            1,
            1,
            1,
            1,
            1,
            1,
            1,
            1,
            1,
            1,
            1,
            1,
            1,
            1,
            1
           ],
           "yaxis": "y"
          },
          {
           "alignmentgroup": "True",
           "hovertemplate": "Medal=Silver<br>Year=1936<br>Sport=%{x}<br>Medaltot=%{y}<extra></extra>",
           "legendgroup": "Silver",
           "marker": {
            "color": "#EF553B",
            "pattern": {
             "shape": ""
            }
           },
           "name": "Silver",
           "offsetgroup": "Silver",
           "orientation": "v",
           "showlegend": true,
           "textposition": "auto",
           "type": "bar",
           "x": [
            "Athletics",
            "Swimming",
            "Swimming",
            "Shooting",
            "Swimming",
            "Rowing",
            "Shooting",
            "Athletics",
            "Swimming",
            "Athletics",
            "Rowing",
            "Swimming",
            "Swimming",
            "Swimming",
            "Athletics"
           ],
           "xaxis": "x",
           "y": [
            1,
            1,
            1,
            1,
            1,
            1,
            1,
            1,
            1,
            1,
            1,
            1,
            1,
            1,
            1
           ],
           "yaxis": "y"
          },
          {
           "alignmentgroup": "True",
           "hovertemplate": "Medal=Bronze<br>Year=1936<br>Sport=%{x}<br>Medaltot=%{y}<extra></extra>",
           "legendgroup": "Bronze",
           "marker": {
            "color": "#00cc96",
            "pattern": {
             "shape": ""
            }
           },
           "name": "Bronze",
           "offsetgroup": "Bronze",
           "orientation": "v",
           "showlegend": true,
           "textposition": "auto",
           "type": "bar",
           "x": [
            "Athletics",
            "Athletics",
            "Athletics",
            "Athletics",
            "Rowing",
            "Athletics",
            "Athletics",
            "Swimming",
            "Rowing",
            "Athletics",
            "Athletics",
            "Rowing",
            "Athletics",
            "Rowing",
            "Rowing",
            "Athletics",
            "Rowing",
            "Rowing",
            "Rowing",
            "Athletics",
            "Athletics",
            "Rowing",
            "Athletics"
           ],
           "xaxis": "x",
           "y": [
            1,
            1,
            1,
            1,
            1,
            1,
            1,
            1,
            1,
            1,
            1,
            1,
            1,
            1,
            1,
            1,
            1,
            1,
            1,
            1,
            1,
            1,
            1
           ],
           "yaxis": "y"
          }
         ],
         "name": "1936"
        },
        {
         "data": [
          {
           "alignmentgroup": "True",
           "hovertemplate": "Medal=Gold<br>Year=1964<br>Sport=%{x}<br>Medaltot=%{y}<extra></extra>",
           "legendgroup": "Gold",
           "marker": {
            "color": "#636efa",
            "pattern": {
             "shape": ""
            }
           },
           "name": "Gold",
           "offsetgroup": "Gold",
           "orientation": "v",
           "showlegend": true,
           "textposition": "auto",
           "type": "bar",
           "x": [
            "Rowing",
            "Rowing",
            "Athletics",
            "Rowing",
            "Rowing",
            "Athletics",
            "Rowing"
           ],
           "xaxis": "x",
           "y": [
            1,
            1,
            1,
            1,
            1,
            1,
            1
           ],
           "yaxis": "y"
          },
          {
           "alignmentgroup": "True",
           "hovertemplate": "Medal=Silver<br>Year=1964<br>Sport=%{x}<br>Medaltot=%{y}<extra></extra>",
           "legendgroup": "Silver",
           "marker": {
            "color": "#EF553B",
            "pattern": {
             "shape": ""
            }
           },
           "name": "Silver",
           "offsetgroup": "Silver",
           "orientation": "v",
           "showlegend": true,
           "textposition": "auto",
           "type": "bar",
           "x": [
            "Rowing",
            "Rowing",
            "Rowing",
            "Rowing",
            "Athletics",
            "Swimming",
            "Swimming",
            "Swimming",
            "Swimming",
            "Rowing",
            "Swimming",
            "Swimming",
            "Swimming",
            "Swimming",
            "Swimming",
            "Athletics",
            "Swimming",
            "Athletics",
            "Rowing",
            "Athletics",
            "Rowing",
            "Athletics",
            "Rowing",
            "Rowing",
            "Rowing",
            "Swimming",
            "Swimming",
            "Swimming"
           ],
           "xaxis": "x",
           "y": [
            1,
            1,
            1,
            1,
            1,
            1,
            1,
            1,
            1,
            1,
            1,
            1,
            1,
            1,
            1,
            1,
            1,
            1,
            1,
            1,
            1,
            1,
            1,
            1,
            1,
            1,
            1,
            1
           ],
           "yaxis": "y"
          },
          {
           "alignmentgroup": "True",
           "hovertemplate": "Medal=Bronze<br>Year=1964<br>Sport=%{x}<br>Medaltot=%{y}<extra></extra>",
           "legendgroup": "Bronze",
           "marker": {
            "color": "#00cc96",
            "pattern": {
             "shape": ""
            }
           },
           "name": "Bronze",
           "offsetgroup": "Bronze",
           "orientation": "v",
           "showlegend": true,
           "textposition": "auto",
           "type": "bar",
           "x": [
            "Athletics",
            "Swimming",
            "Rowing",
            "Swimming",
            "Athletics",
            "Rowing",
            "Athletics"
           ],
           "xaxis": "x",
           "y": [
            1,
            1,
            1,
            1,
            1,
            1,
            1
           ],
           "yaxis": "y"
          }
         ],
         "name": "1964"
        },
        {
         "data": [
          {
           "alignmentgroup": "True",
           "hovertemplate": "Medal=Gold<br>Year=1932<br>Sport=%{x}<br>Medaltot=%{y}<extra></extra>",
           "legendgroup": "Gold",
           "marker": {
            "color": "#636efa",
            "pattern": {
             "shape": ""
            }
           },
           "name": "Gold",
           "offsetgroup": "Gold",
           "orientation": "v",
           "showlegend": true,
           "textposition": "auto",
           "type": "bar",
           "x": [
            "Rowing",
            "Rowing",
            "Rowing",
            "Rowing",
            "Rowing"
           ],
           "xaxis": "x",
           "y": [
            1,
            1,
            1,
            1,
            1
           ],
           "yaxis": "y"
          },
          {
           "alignmentgroup": "True",
           "hovertemplate": "Medal=Silver<br>Year=1932<br>Sport=%{x}<br>Medaltot=%{y}<extra></extra>",
           "legendgroup": "Silver",
           "marker": {
            "color": "#EF553B",
            "pattern": {
             "shape": ""
            }
           },
           "name": "Silver",
           "offsetgroup": "Silver",
           "orientation": "v",
           "showlegend": true,
           "textposition": "auto",
           "type": "bar",
           "x": [
            "Rowing",
            "Rowing",
            "Athletics",
            "Athletics",
            "Rowing",
            "Rowing",
            "Rowing",
            "Shooting",
            "Athletics",
            "Athletics",
            "Athletics",
            "Rowing"
           ],
           "xaxis": "x",
           "y": [
            1,
            1,
            1,
            1,
            1,
            1,
            1,
            1,
            1,
            1,
            1,
            1
           ],
           "yaxis": "y"
          },
          {
           "alignmentgroup": "True",
           "hovertemplate": "Medal=Bronze<br>Year=1932<br>Sport=%{x}<br>Medaltot=%{y}<extra></extra>",
           "legendgroup": "Bronze",
           "marker": {
            "color": "#00cc96",
            "pattern": {
             "shape": ""
            }
           },
           "name": "Bronze",
           "offsetgroup": "Bronze",
           "orientation": "v",
           "showlegend": true,
           "textposition": "auto",
           "type": "bar",
           "x": [
            "Athletics",
            "Athletics",
            "Athletics"
           ],
           "xaxis": "x",
           "y": [
            1,
            1,
            1
           ],
           "yaxis": "y"
          }
         ],
         "name": "1932"
        },
        {
         "data": [
          {
           "alignmentgroup": "True",
           "hovertemplate": "Medal=Gold<br>Year=1992<br>Sport=%{x}<br>Medaltot=%{y}<extra></extra>",
           "legendgroup": "Gold",
           "marker": {
            "color": "#636efa",
            "pattern": {
             "shape": ""
            }
           },
           "name": "Gold",
           "offsetgroup": "Gold",
           "orientation": "v",
           "showlegend": true,
           "textposition": "auto",
           "type": "bar",
           "x": [
            "Athletics",
            "Rowing",
            "Athletics",
            "Rowing",
            "Swimming",
            "Shooting",
            "Rowing",
            "Rowing",
            "Rowing",
            "Rowing",
            "Rowing",
            "Athletics",
            "Athletics",
            "Rowing",
            "Shooting",
            "Rowing",
            "Rowing",
            "Rowing"
           ],
           "xaxis": "x",
           "y": [
            1,
            1,
            1,
            1,
            1,
            1,
            1,
            1,
            1,
            1,
            1,
            1,
            1,
            1,
            1,
            1,
            1,
            1
           ],
           "yaxis": "y"
          },
          {
           "alignmentgroup": "True",
           "hovertemplate": "Medal=Silver<br>Year=1992<br>Sport=%{x}<br>Medaltot=%{y}<extra></extra>",
           "legendgroup": "Silver",
           "marker": {
            "color": "#EF553B",
            "pattern": {
             "shape": ""
            }
           },
           "name": "Silver",
           "offsetgroup": "Silver",
           "orientation": "v",
           "showlegend": true,
           "textposition": "auto",
           "type": "bar",
           "x": [
            "Rowing",
            "Swimming",
            "Rowing",
            "Swimming",
            "Rowing",
            "Swimming",
            "Swimming",
            "Rowing",
            "Swimming",
            "Rowing",
            "Swimming",
            "Rowing",
            "Rowing",
            "Athletics",
            "Swimming",
            "Swimming",
            "Swimming",
            "Rowing",
            "Rowing"
           ],
           "xaxis": "x",
           "y": [
            1,
            1,
            1,
            1,
            1,
            1,
            1,
            1,
            1,
            1,
            1,
            1,
            1,
            1,
            1,
            1,
            1,
            1,
            1
           ],
           "yaxis": "y"
          },
          {
           "alignmentgroup": "True",
           "hovertemplate": "Medal=Bronze<br>Year=1992<br>Sport=%{x}<br>Medaltot=%{y}<extra></extra>",
           "legendgroup": "Bronze",
           "marker": {
            "color": "#00cc96",
            "pattern": {
             "shape": ""
            }
           },
           "name": "Bronze",
           "offsetgroup": "Bronze",
           "orientation": "v",
           "showlegend": true,
           "textposition": "auto",
           "type": "bar",
           "x": [
            "Rowing",
            "Athletics",
            "Rowing",
            "Rowing",
            "Athletics",
            "Rowing",
            "Athletics",
            "Rowing",
            "Swimming",
            "Rowing",
            "Swimming",
            "Swimming",
            "Rowing",
            "Swimming",
            "Swimming",
            "Swimming",
            "Swimming",
            "Rowing",
            "Rowing",
            "Rowing",
            "Athletics",
            "Rowing",
            "Swimming",
            "Rowing",
            "Swimming",
            "Rowing",
            "Rowing",
            "Swimming",
            "Rowing",
            "Shooting",
            "Rowing",
            "Rowing",
            "Rowing",
            "Swimming",
            "Rowing",
            "Rowing",
            "Swimming",
            "Swimming",
            "Swimming",
            "Swimming",
            "Athletics",
            "Rowing",
            "Rowing",
            "Swimming",
            "Swimming"
           ],
           "xaxis": "x",
           "y": [
            1,
            1,
            1,
            1,
            1,
            1,
            1,
            1,
            1,
            1,
            1,
            1,
            1,
            1,
            1,
            1,
            1,
            1,
            1,
            1,
            1,
            1,
            1,
            1,
            1,
            1,
            1,
            1,
            1,
            1,
            1,
            1,
            1,
            1,
            1,
            1,
            1,
            1,
            1,
            1,
            1,
            1,
            1,
            1,
            1
           ],
           "yaxis": "y"
          }
         ],
         "name": "1992"
        },
        {
         "data": [
          {
           "alignmentgroup": "True",
           "hovertemplate": "Medal=Gold<br>Year=1900<br>Sport=%{x}<br>Medaltot=%{y}<extra></extra>",
           "legendgroup": "Gold",
           "marker": {
            "color": "#636efa",
            "pattern": {
             "shape": ""
            }
           },
           "name": "Gold",
           "offsetgroup": "Gold",
           "orientation": "v",
           "showlegend": true,
           "textposition": "auto",
           "type": "bar",
           "x": [
            "Rowing",
            "Rowing",
            "Rowing",
            "Swimming",
            "Swimming",
            "Swimming",
            "Rowing",
            "Swimming",
            "Swimming",
            "Rowing"
           ],
           "xaxis": "x",
           "y": [
            1,
            1,
            1,
            1,
            1,
            1,
            1,
            1,
            1,
            1
           ],
           "yaxis": "y"
          },
          {
           "alignmentgroup": "True",
           "hovertemplate": "Medal=Bronze<br>Year=1900<br>Sport=%{x}<br>Medaltot=%{y}<extra></extra>",
           "legendgroup": "Bronze",
           "marker": {
            "color": "#00cc96",
            "pattern": {
             "shape": ""
            }
           },
           "name": "Bronze",
           "offsetgroup": "Bronze",
           "orientation": "v",
           "showlegend": true,
           "textposition": "auto",
           "type": "bar",
           "x": [
            "Rowing",
            "Rowing",
            "Rowing",
            "Rowing",
            "Rowing",
            "Rowing",
            "Rowing",
            "Rowing",
            "Rowing",
            "Rowing",
            "Rowing"
           ],
           "xaxis": "x",
           "y": [
            1,
            1,
            1,
            1,
            1,
            1,
            1,
            1,
            1,
            1,
            1
           ],
           "yaxis": "y"
          }
         ],
         "name": "1900"
        },
        {
         "data": [
          {
           "alignmentgroup": "True",
           "hovertemplate": "Medal=Gold<br>Year=1956<br>Sport=%{x}<br>Medaltot=%{y}<extra></extra>",
           "legendgroup": "Gold",
           "marker": {
            "color": "#636efa",
            "pattern": {
             "shape": ""
            }
           },
           "name": "Gold",
           "offsetgroup": "Gold",
           "orientation": "v",
           "showlegend": true,
           "textposition": "auto",
           "type": "bar",
           "x": [
            "Swimming"
           ],
           "xaxis": "x",
           "y": [
            1
           ],
           "yaxis": "y"
          },
          {
           "alignmentgroup": "True",
           "hovertemplate": "Medal=Silver<br>Year=1956<br>Sport=%{x}<br>Medaltot=%{y}<extra></extra>",
           "legendgroup": "Silver",
           "marker": {
            "color": "#EF553B",
            "pattern": {
             "shape": ""
            }
           },
           "name": "Silver",
           "offsetgroup": "Silver",
           "orientation": "v",
           "showlegend": true,
           "textposition": "auto",
           "type": "bar",
           "x": [
            "Rowing",
            "Rowing",
            "Athletics",
            "Athletics",
            "Athletics",
            "Athletics",
            "Athletics",
            "Rowing"
           ],
           "xaxis": "x",
           "y": [
            1,
            1,
            1,
            1,
            1,
            1,
            1,
            1
           ],
           "yaxis": "y"
          },
          {
           "alignmentgroup": "True",
           "hovertemplate": "Medal=Bronze<br>Year=1956<br>Sport=%{x}<br>Medaltot=%{y}<extra></extra>",
           "legendgroup": "Bronze",
           "marker": {
            "color": "#00cc96",
            "pattern": {
             "shape": ""
            }
           },
           "name": "Bronze",
           "offsetgroup": "Bronze",
           "orientation": "v",
           "showlegend": true,
           "textposition": "auto",
           "type": "bar",
           "x": [
            "Athletics",
            "Athletics",
            "Athletics",
            "Athletics",
            "Swimming",
            "Athletics"
           ],
           "xaxis": "x",
           "y": [
            1,
            1,
            1,
            1,
            1,
            1
           ],
           "yaxis": "y"
          }
         ],
         "name": "1956"
        },
        {
         "data": [
          {
           "alignmentgroup": "True",
           "hovertemplate": "Medal=Gold<br>Year=1912<br>Sport=%{x}<br>Medaltot=%{y}<extra></extra>",
           "legendgroup": "Gold",
           "marker": {
            "color": "#636efa",
            "pattern": {
             "shape": ""
            }
           },
           "name": "Gold",
           "offsetgroup": "Gold",
           "orientation": "v",
           "showlegend": true,
           "textposition": "auto",
           "type": "bar",
           "x": [
            "Rowing",
            "Swimming",
            "Swimming",
            "Rowing",
            "Rowing",
            "Rowing",
            "Rowing"
           ],
           "xaxis": "x",
           "y": [
            1,
            1,
            1,
            1,
            1,
            1,
            1
           ],
           "yaxis": "y"
          },
          {
           "alignmentgroup": "True",
           "hovertemplate": "Medal=Silver<br>Year=1912<br>Sport=%{x}<br>Medaltot=%{y}<extra></extra>",
           "legendgroup": "Silver",
           "marker": {
            "color": "#EF553B",
            "pattern": {
             "shape": ""
            }
           },
           "name": "Silver",
           "offsetgroup": "Silver",
           "orientation": "v",
           "showlegend": true,
           "textposition": "auto",
           "type": "bar",
           "x": [
            "Athletics",
            "Swimming",
            "Swimming",
            "Shooting",
            "Athletics",
            "Swimming",
            "Swimming",
            "Swimming",
            "Swimming"
           ],
           "xaxis": "x",
           "y": [
            1,
            1,
            1,
            1,
            1,
            1,
            1,
            1,
            1
           ],
           "yaxis": "y"
          },
          {
           "alignmentgroup": "True",
           "hovertemplate": "Medal=Bronze<br>Year=1912<br>Sport=%{x}<br>Medaltot=%{y}<extra></extra>",
           "legendgroup": "Bronze",
           "marker": {
            "color": "#00cc96",
            "pattern": {
             "shape": ""
            }
           },
           "name": "Bronze",
           "offsetgroup": "Bronze",
           "orientation": "v",
           "showlegend": true,
           "textposition": "auto",
           "type": "bar",
           "x": [
            "Rowing",
            "Rowing",
            "Rowing",
            "Rowing",
            "Shooting",
            "Shooting",
            "Swimming",
            "Shooting",
            "Rowing",
            "Swimming",
            "Rowing",
            "Shooting",
            "Rowing",
            "Rowing",
            "Rowing",
            "Shooting",
            "Shooting"
           ],
           "xaxis": "x",
           "y": [
            1,
            1,
            1,
            1,
            1,
            1,
            1,
            1,
            1,
            1,
            1,
            1,
            1,
            1,
            1,
            1,
            1
           ],
           "yaxis": "y"
          }
         ],
         "name": "1912"
        },
        {
         "data": [
          {
           "alignmentgroup": "True",
           "hovertemplate": "Medal=Gold<br>Year=1996<br>Sport=%{x}<br>Medaltot=%{y}<extra></extra>",
           "legendgroup": "Gold",
           "marker": {
            "color": "#636efa",
            "pattern": {
             "shape": ""
            }
           },
           "name": "Gold",
           "offsetgroup": "Gold",
           "orientation": "v",
           "showlegend": true,
           "textposition": "auto",
           "type": "bar",
           "x": [
            "Rowing",
            "Rowing",
            "Shooting",
            "Rowing",
            "Athletics",
            "Athletics",
            "Rowing",
            "Shooting",
            "Rowing",
            "Rowing",
            "Rowing",
            "Rowing",
            "Athletics"
           ],
           "xaxis": "x",
           "y": [
            1,
            1,
            1,
            1,
            1,
            1,
            1,
            1,
            1,
            1,
            1,
            1,
            1
           ],
           "yaxis": "y"
          },
          {
           "alignmentgroup": "True",
           "hovertemplate": "Medal=Silver<br>Year=1996<br>Sport=%{x}<br>Medaltot=%{y}<extra></extra>",
           "legendgroup": "Silver",
           "marker": {
            "color": "#EF553B",
            "pattern": {
             "shape": ""
            }
           },
           "name": "Silver",
           "offsetgroup": "Silver",
           "orientation": "v",
           "showlegend": true,
           "textposition": "auto",
           "type": "bar",
           "x": [
            "Rowing",
            "Athletics",
            "Swimming",
            "Swimming",
            "Swimming",
            "Swimming",
            "Shooting",
            "Rowing",
            "Swimming",
            "Shooting",
            "Rowing",
            "Rowing",
            "Swimming",
            "Rowing",
            "Swimming",
            "Rowing",
            "Rowing",
            "Swimming",
            "Swimming",
            "Rowing",
            "Swimming",
            "Rowing"
           ],
           "xaxis": "x",
           "y": [
            1,
            1,
            1,
            1,
            1,
            1,
            1,
            1,
            1,
            1,
            1,
            1,
            1,
            1,
            1,
            1,
            1,
            1,
            1,
            1,
            1,
            1
           ],
           "yaxis": "y"
          },
          {
           "alignmentgroup": "True",
           "hovertemplate": "Medal=Bronze<br>Year=1996<br>Sport=%{x}<br>Medaltot=%{y}<extra></extra>",
           "legendgroup": "Bronze",
           "marker": {
            "color": "#00cc96",
            "pattern": {
             "shape": ""
            }
           },
           "name": "Bronze",
           "offsetgroup": "Bronze",
           "orientation": "v",
           "showlegend": true,
           "textposition": "auto",
           "type": "bar",
           "x": [
            "Athletics",
            "Swimming",
            "Swimming",
            "Swimming",
            "Swimming",
            "Swimming",
            "Swimming",
            "Athletics",
            "Swimming",
            "Rowing",
            "Swimming",
            "Swimming",
            "Swimming",
            "Athletics",
            "Athletics",
            "Swimming",
            "Athletics",
            "Athletics",
            "Swimming",
            "Swimming",
            "Swimming",
            "Swimming",
            "Swimming",
            "Swimming",
            "Swimming",
            "Swimming",
            "Swimming"
           ],
           "xaxis": "x",
           "y": [
            1,
            1,
            1,
            1,
            1,
            1,
            1,
            1,
            1,
            1,
            1,
            1,
            1,
            1,
            1,
            1,
            1,
            1,
            1,
            1,
            1,
            1,
            1,
            1,
            1,
            1,
            1
           ],
           "yaxis": "y"
          }
         ],
         "name": "1996"
        },
        {
         "data": [
          {
           "alignmentgroup": "True",
           "hovertemplate": "Medal=Silver<br>Year=1906<br>Sport=%{x}<br>Medaltot=%{y}<extra></extra>",
           "legendgroup": "Silver",
           "marker": {
            "color": "#EF553B",
            "pattern": {
             "shape": ""
            }
           },
           "name": "Silver",
           "offsetgroup": "Silver",
           "orientation": "v",
           "showlegend": true,
           "textposition": "auto",
           "type": "bar",
           "x": [
            "Swimming",
            "Athletics",
            "Swimming",
            "Swimming",
            "Swimming"
           ],
           "xaxis": "x",
           "y": [
            1,
            1,
            1,
            1,
            1
           ],
           "yaxis": "y"
          },
          {
           "alignmentgroup": "True",
           "hovertemplate": "Medal=Bronze<br>Year=1906<br>Sport=%{x}<br>Medaltot=%{y}<extra></extra>",
           "legendgroup": "Bronze",
           "marker": {
            "color": "#00cc96",
            "pattern": {
             "shape": ""
            }
           },
           "name": "Bronze",
           "offsetgroup": "Bronze",
           "orientation": "v",
           "showlegend": true,
           "textposition": "auto",
           "type": "bar",
           "x": [
            "Athletics"
           ],
           "xaxis": "x",
           "y": [
            1
           ],
           "yaxis": "y"
          }
         ],
         "name": "1906"
        },
        {
         "data": [
          {
           "alignmentgroup": "True",
           "hovertemplate": "Medal=Gold<br>Year=2016<br>Sport=%{x}<br>Medaltot=%{y}<extra></extra>",
           "legendgroup": "Gold",
           "marker": {
            "color": "#636efa",
            "pattern": {
             "shape": ""
            }
           },
           "name": "Gold",
           "offsetgroup": "Gold",
           "orientation": "v",
           "showlegend": true,
           "textposition": "auto",
           "type": "bar",
           "x": [
            "Rowing",
            "Rowing",
            "Athletics",
            "Shooting",
            "Shooting",
            "Rowing",
            "Shooting",
            "Athletics",
            "Rowing",
            "Rowing",
            "Rowing",
            "Rowing",
            "Rowing"
           ],
           "xaxis": "x",
           "y": [
            1,
            1,
            1,
            1,
            1,
            1,
            1,
            1,
            1,
            1,
            1,
            1,
            1
           ],
           "yaxis": "y"
          },
          {
           "alignmentgroup": "True",
           "hovertemplate": "Medal=Silver<br>Year=2016<br>Sport=%{x}<br>Medaltot=%{y}<extra></extra>",
           "legendgroup": "Silver",
           "marker": {
            "color": "#EF553B",
            "pattern": {
             "shape": ""
            }
           },
           "name": "Silver",
           "offsetgroup": "Silver",
           "orientation": "v",
           "showlegend": true,
           "textposition": "auto",
           "type": "bar",
           "x": [
            "Rowing",
            "Rowing",
            "Rowing",
            "Shooting",
            "Rowing",
            "Rowing",
            "Rowing",
            "Rowing",
            "Rowing",
            "Rowing"
           ],
           "xaxis": "x",
           "y": [
            1,
            1,
            1,
            1,
            1,
            1,
            1,
            1,
            1,
            1
           ],
           "yaxis": "y"
          },
          {
           "alignmentgroup": "True",
           "hovertemplate": "Medal=Bronze<br>Year=2016<br>Sport=%{x}<br>Medaltot=%{y}<extra></extra>",
           "legendgroup": "Bronze",
           "marker": {
            "color": "#00cc96",
            "pattern": {
             "shape": ""
            }
           },
           "name": "Bronze",
           "offsetgroup": "Bronze",
           "orientation": "v",
           "showlegend": true,
           "textposition": "auto",
           "type": "bar",
           "x": [
            "Athletics"
           ],
           "xaxis": "x",
           "y": [
            1
           ],
           "yaxis": "y"
          }
         ],
         "name": "2016"
        },
        {
         "data": [
          {
           "alignmentgroup": "True",
           "hovertemplate": "Medal=Gold<br>Year=1908<br>Sport=%{x}<br>Medaltot=%{y}<extra></extra>",
           "legendgroup": "Gold",
           "marker": {
            "color": "#636efa",
            "pattern": {
             "shape": ""
            }
           },
           "name": "Gold",
           "offsetgroup": "Gold",
           "orientation": "v",
           "showlegend": true,
           "textposition": "auto",
           "type": "bar",
           "x": [
            "Swimming"
           ],
           "xaxis": "x",
           "y": [
            1
           ],
           "yaxis": "y"
          },
          {
           "alignmentgroup": "True",
           "hovertemplate": "Medal=Silver<br>Year=1908<br>Sport=%{x}<br>Medaltot=%{y}<extra></extra>",
           "legendgroup": "Silver",
           "marker": {
            "color": "#EF553B",
            "pattern": {
             "shape": ""
            }
           },
           "name": "Silver",
           "offsetgroup": "Silver",
           "orientation": "v",
           "showlegend": true,
           "textposition": "auto",
           "type": "bar",
           "x": [
            "Athletics",
            "Athletics",
            "Athletics",
            "Athletics"
           ],
           "xaxis": "x",
           "y": [
            1,
            1,
            1,
            1
           ],
           "yaxis": "y"
          },
          {
           "alignmentgroup": "True",
           "hovertemplate": "Medal=Bronze<br>Year=1908<br>Sport=%{x}<br>Medaltot=%{y}<extra></extra>",
           "legendgroup": "Bronze",
           "marker": {
            "color": "#00cc96",
            "pattern": {
             "shape": ""
            }
           },
           "name": "Bronze",
           "offsetgroup": "Bronze",
           "orientation": "v",
           "showlegend": true,
           "textposition": "auto",
           "type": "bar",
           "x": [
            "Athletics",
            "Rowing",
            "Rowing",
            "Rowing"
           ],
           "xaxis": "x",
           "y": [
            1,
            1,
            1,
            1
           ],
           "yaxis": "y"
          }
         ],
         "name": "1908"
        },
        {
         "data": [
          {
           "alignmentgroup": "True",
           "hovertemplate": "Medal=Gold<br>Year=1960<br>Sport=%{x}<br>Medaltot=%{y}<extra></extra>",
           "legendgroup": "Gold",
           "marker": {
            "color": "#636efa",
            "pattern": {
             "shape": ""
            }
           },
           "name": "Gold",
           "offsetgroup": "Gold",
           "orientation": "v",
           "showlegend": true,
           "textposition": "auto",
           "type": "bar",
           "x": [
            "Rowing",
            "Rowing",
            "Athletics",
            "Rowing",
            "Athletics",
            "Athletics",
            "Rowing",
            "Rowing",
            "Shooting",
            "Athletics",
            "Rowing",
            "Rowing",
            "Athletics",
            "Rowing",
            "Rowing",
            "Rowing",
            "Rowing",
            "Rowing",
            "Rowing",
            "Rowing",
            "Rowing",
            "Rowing",
            "Rowing"
           ],
           "xaxis": "x",
           "y": [
            1,
            1,
            1,
            1,
            1,
            1,
            1,
            1,
            1,
            1,
            1,
            1,
            1,
            1,
            1,
            1,
            1,
            1,
            1,
            1,
            1,
            1,
            1
           ],
           "yaxis": "y"
          },
          {
           "alignmentgroup": "True",
           "hovertemplate": "Medal=Silver<br>Year=1960<br>Sport=%{x}<br>Medaltot=%{y}<extra></extra>",
           "legendgroup": "Silver",
           "marker": {
            "color": "#EF553B",
            "pattern": {
             "shape": ""
            }
           },
           "name": "Silver",
           "offsetgroup": "Silver",
           "orientation": "v",
           "showlegend": true,
           "textposition": "auto",
           "type": "bar",
           "x": [
            "Athletics",
            "Athletics",
            "Athletics",
            "Athletics",
            "Athletics",
            "Athletics",
            "Rowing",
            "Athletics",
            "Athletics",
            "Athletics",
            "Athletics",
            "Athletics",
            "Athletics",
            "Athletics",
            "Athletics",
            "Swimming"
           ],
           "xaxis": "x",
           "y": [
            1,
            1,
            1,
            1,
            1,
            1,
            1,
            1,
            1,
            1,
            1,
            1,
            1,
            1,
            1,
            1
           ],
           "yaxis": "y"
          },
          {
           "alignmentgroup": "True",
           "hovertemplate": "Medal=Bronze<br>Year=1960<br>Sport=%{x}<br>Medaltot=%{y}<extra></extra>",
           "legendgroup": "Bronze",
           "marker": {
            "color": "#00cc96",
            "pattern": {
             "shape": ""
            }
           },
           "name": "Bronze",
           "offsetgroup": "Bronze",
           "orientation": "v",
           "showlegend": true,
           "textposition": "auto",
           "type": "bar",
           "x": [
            "Swimming",
            "Swimming",
            "Athletics",
            "Swimming",
            "Swimming",
            "Athletics",
            "Swimming",
            "Athletics",
            "Swimming",
            "Swimming",
            "Swimming",
            "Swimming",
            "Shooting"
           ],
           "xaxis": "x",
           "y": [
            1,
            1,
            1,
            1,
            1,
            1,
            1,
            1,
            1,
            1,
            1,
            1,
            1
           ],
           "yaxis": "y"
          }
         ],
         "name": "1960"
        },
        {
         "data": [
          {
           "alignmentgroup": "True",
           "hovertemplate": "Medal=Gold<br>Year=2000<br>Sport=%{x}<br>Medaltot=%{y}<extra></extra>",
           "legendgroup": "Gold",
           "marker": {
            "color": "#636efa",
            "pattern": {
             "shape": ""
            }
           },
           "name": "Gold",
           "offsetgroup": "Gold",
           "orientation": "v",
           "showlegend": true,
           "textposition": "auto",
           "type": "bar",
           "x": [
            "Rowing",
            "Athletics",
            "Rowing",
            "Rowing",
            "Rowing",
            "Rowing",
            "Athletics",
            "Rowing"
           ],
           "xaxis": "x",
           "y": [
            1,
            1,
            1,
            1,
            1,
            1,
            1,
            1
           ],
           "yaxis": "y"
          },
          {
           "alignmentgroup": "True",
           "hovertemplate": "Medal=Silver<br>Year=2000<br>Sport=%{x}<br>Medaltot=%{y}<extra></extra>",
           "legendgroup": "Silver",
           "marker": {
            "color": "#EF553B",
            "pattern": {
             "shape": ""
            }
           },
           "name": "Silver",
           "offsetgroup": "Silver",
           "orientation": "v",
           "showlegend": true,
           "textposition": "auto",
           "type": "bar",
           "x": [
            "Rowing",
            "Athletics",
            "Rowing"
           ],
           "xaxis": "x",
           "y": [
            1,
            1,
            1
           ],
           "yaxis": "y"
          },
          {
           "alignmentgroup": "True",
           "hovertemplate": "Medal=Bronze<br>Year=2000<br>Sport=%{x}<br>Medaltot=%{y}<extra></extra>",
           "legendgroup": "Bronze",
           "marker": {
            "color": "#00cc96",
            "pattern": {
             "shape": ""
            }
           },
           "name": "Bronze",
           "offsetgroup": "Bronze",
           "orientation": "v",
           "showlegend": true,
           "textposition": "auto",
           "type": "bar",
           "x": [
            "Swimming",
            "Swimming",
            "Rowing",
            "Rowing",
            "Rowing",
            "Swimming",
            "Swimming",
            "Swimming",
            "Athletics",
            "Athletics",
            "Swimming",
            "Rowing",
            "Swimming",
            "Swimming",
            "Swimming",
            "Swimming",
            "Swimming",
            "Rowing",
            "Rowing"
           ],
           "xaxis": "x",
           "y": [
            1,
            1,
            1,
            1,
            1,
            1,
            1,
            1,
            1,
            1,
            1,
            1,
            1,
            1,
            1,
            1,
            1,
            1,
            1
           ],
           "yaxis": "y"
          }
         ],
         "name": "2000"
        },
        {
         "data": [
          {
           "alignmentgroup": "True",
           "hovertemplate": "Medal=Gold<br>Year=2004<br>Sport=%{x}<br>Medaltot=%{y}<extra></extra>",
           "legendgroup": "Gold",
           "marker": {
            "color": "#636efa",
            "pattern": {
             "shape": ""
            }
           },
           "name": "Gold",
           "offsetgroup": "Gold",
           "orientation": "v",
           "showlegend": true,
           "textposition": "auto",
           "type": "bar",
           "x": [
            "Rowing",
            "Rowing",
            "Rowing",
            "Shooting",
            "Rowing",
            "Rowing",
            "Shooting"
           ],
           "xaxis": "x",
           "y": [
            1,
            1,
            1,
            1,
            1,
            1,
            1
           ],
           "yaxis": "y"
          },
          {
           "alignmentgroup": "True",
           "hovertemplate": "Medal=Silver<br>Year=2004<br>Sport=%{x}<br>Medaltot=%{y}<extra></extra>",
           "legendgroup": "Silver",
           "marker": {
            "color": "#EF553B",
            "pattern": {
             "shape": ""
            }
           },
           "name": "Silver",
           "offsetgroup": "Silver",
           "orientation": "v",
           "showlegend": true,
           "textposition": "auto",
           "type": "bar",
           "x": [
            "Rowing",
            "Swimming",
            "Swimming",
            "Athletics",
            "Swimming",
            "Shooting",
            "Swimming",
            "Athletics",
            "Rowing",
            "Rowing",
            "Swimming",
            "Rowing"
           ],
           "xaxis": "x",
           "y": [
            1,
            1,
            1,
            1,
            1,
            1,
            1,
            1,
            1,
            1,
            1,
            1
           ],
           "yaxis": "y"
          },
          {
           "alignmentgroup": "True",
           "hovertemplate": "Medal=Bronze<br>Year=2004<br>Sport=%{x}<br>Medaltot=%{y}<extra></extra>",
           "legendgroup": "Bronze",
           "marker": {
            "color": "#00cc96",
            "pattern": {
             "shape": ""
            }
           },
           "name": "Bronze",
           "offsetgroup": "Bronze",
           "orientation": "v",
           "showlegend": true,
           "textposition": "auto",
           "type": "bar",
           "x": [
            "Swimming",
            "Swimming",
            "Swimming",
            "Swimming",
            "Swimming",
            "Swimming",
            "Swimming",
            "Swimming",
            "Swimming",
            "Swimming",
            "Swimming",
            "Swimming"
           ],
           "xaxis": "x",
           "y": [
            1,
            1,
            1,
            1,
            1,
            1,
            1,
            1,
            1,
            1,
            1,
            1
           ],
           "yaxis": "y"
          }
         ],
         "name": "2004"
        },
        {
         "data": [
          {
           "alignmentgroup": "True",
           "hovertemplate": "Medal=Gold<br>Year=2008<br>Sport=%{x}<br>Medaltot=%{y}<extra></extra>",
           "legendgroup": "Gold",
           "marker": {
            "color": "#636efa",
            "pattern": {
             "shape": ""
            }
           },
           "name": "Gold",
           "offsetgroup": "Gold",
           "orientation": "v",
           "showlegend": true,
           "textposition": "auto",
           "type": "bar",
           "x": [
            "Swimming",
            "Swimming"
           ],
           "xaxis": "x",
           "y": [
            1,
            1
           ],
           "yaxis": "y"
          },
          {
           "alignmentgroup": "True",
           "hovertemplate": "Medal=Silver<br>Year=2008<br>Sport=%{x}<br>Medaltot=%{y}<extra></extra>",
           "legendgroup": "Silver",
           "marker": {
            "color": "#EF553B",
            "pattern": {
             "shape": ""
            }
           },
           "name": "Silver",
           "offsetgroup": "Silver",
           "orientation": "v",
           "showlegend": true,
           "textposition": "auto",
           "type": "bar",
           "x": [
            "Rowing",
            "Shooting",
            "Rowing"
           ],
           "xaxis": "x",
           "y": [
            1,
            1,
            1
           ],
           "yaxis": "y"
          },
          {
           "alignmentgroup": "True",
           "hovertemplate": "Medal=Bronze<br>Year=2008<br>Sport=%{x}<br>Medaltot=%{y}<extra></extra>",
           "legendgroup": "Bronze",
           "marker": {
            "color": "#00cc96",
            "pattern": {
             "shape": ""
            }
           },
           "name": "Bronze",
           "offsetgroup": "Bronze",
           "orientation": "v",
           "showlegend": true,
           "textposition": "auto",
           "type": "bar",
           "x": [
            "Rowing",
            "Shooting",
            "Shooting",
            "Swimming",
            "Rowing",
            "Athletics",
            "Rowing",
            "Shooting",
            "Rowing"
           ],
           "xaxis": "x",
           "y": [
            1,
            1,
            1,
            1,
            1,
            1,
            1,
            1,
            1
           ],
           "yaxis": "y"
          }
         ],
         "name": "2008"
        },
        {
         "data": [
          {
           "alignmentgroup": "True",
           "hovertemplate": "Medal=Gold<br>Year=1904<br>Sport=%{x}<br>Medaltot=%{y}<extra></extra>",
           "legendgroup": "Gold",
           "marker": {
            "color": "#636efa",
            "pattern": {
             "shape": ""
            }
           },
           "name": "Gold",
           "offsetgroup": "Gold",
           "orientation": "v",
           "showlegend": true,
           "textposition": "auto",
           "type": "bar",
           "x": [
            "Swimming",
            "Swimming",
            "Swimming",
            "Swimming"
           ],
           "xaxis": "x",
           "y": [
            1,
            1,
            1,
            1
           ],
           "yaxis": "y"
          },
          {
           "alignmentgroup": "True",
           "hovertemplate": "Medal=Silver<br>Year=1904<br>Sport=%{x}<br>Medaltot=%{y}<extra></extra>",
           "legendgroup": "Silver",
           "marker": {
            "color": "#EF553B",
            "pattern": {
             "shape": ""
            }
           },
           "name": "Silver",
           "offsetgroup": "Silver",
           "orientation": "v",
           "showlegend": true,
           "textposition": "auto",
           "type": "bar",
           "x": [
            "Swimming",
            "Swimming"
           ],
           "xaxis": "x",
           "y": [
            1,
            1
           ],
           "yaxis": "y"
          },
          {
           "alignmentgroup": "True",
           "hovertemplate": "Medal=Bronze<br>Year=1904<br>Sport=%{x}<br>Medaltot=%{y}<extra></extra>",
           "legendgroup": "Bronze",
           "marker": {
            "color": "#00cc96",
            "pattern": {
             "shape": ""
            }
           },
           "name": "Bronze",
           "offsetgroup": "Bronze",
           "orientation": "v",
           "showlegend": true,
           "textposition": "auto",
           "type": "bar",
           "x": [
            "Swimming",
            "Athletics",
            "Swimming"
           ],
           "xaxis": "x",
           "y": [
            1,
            1,
            1
           ],
           "yaxis": "y"
          }
         ],
         "name": "1904"
        },
        {
         "data": [
          {
           "alignmentgroup": "True",
           "hovertemplate": "Medal=Gold<br>Year=1928<br>Sport=%{x}<br>Medaltot=%{y}<extra></extra>",
           "legendgroup": "Gold",
           "marker": {
            "color": "#636efa",
            "pattern": {
             "shape": ""
            }
           },
           "name": "Gold",
           "offsetgroup": "Gold",
           "orientation": "v",
           "showlegend": true,
           "textposition": "auto",
           "type": "bar",
           "x": [
            "Rowing",
            "Rowing",
            "Athletics",
            "Swimming"
           ],
           "xaxis": "x",
           "y": [
            1,
            1,
            1,
            1
           ],
           "yaxis": "y"
          },
          {
           "alignmentgroup": "True",
           "hovertemplate": "Medal=Silver<br>Year=1928<br>Sport=%{x}<br>Medaltot=%{y}<extra></extra>",
           "legendgroup": "Silver",
           "marker": {
            "color": "#EF553B",
            "pattern": {
             "shape": ""
            }
           },
           "name": "Silver",
           "offsetgroup": "Silver",
           "orientation": "v",
           "showlegend": true,
           "textposition": "auto",
           "type": "bar",
           "x": [
            "Athletics",
            "Athletics",
            "Athletics",
            "Athletics",
            "Athletics",
            "Athletics",
            "Athletics",
            "Swimming",
            "Athletics"
           ],
           "xaxis": "x",
           "y": [
            1,
            1,
            1,
            1,
            1,
            1,
            1,
            1,
            1
           ],
           "yaxis": "y"
          },
          {
           "alignmentgroup": "True",
           "hovertemplate": "Medal=Bronze<br>Year=1928<br>Sport=%{x}<br>Medaltot=%{y}<extra></extra>",
           "legendgroup": "Bronze",
           "marker": {
            "color": "#00cc96",
            "pattern": {
             "shape": ""
            }
           },
           "name": "Bronze",
           "offsetgroup": "Bronze",
           "orientation": "v",
           "showlegend": true,
           "textposition": "auto",
           "type": "bar",
           "x": [
            "Athletics",
            "Athletics",
            "Athletics",
            "Athletics",
            "Athletics",
            "Athletics",
            "Athletics",
            "Athletics",
            "Swimming",
            "Athletics"
           ],
           "xaxis": "x",
           "y": [
            1,
            1,
            1,
            1,
            1,
            1,
            1,
            1,
            1,
            1
           ],
           "yaxis": "y"
          }
         ],
         "name": "1928"
        },
        {
         "data": [
          {
           "alignmentgroup": "True",
           "hovertemplate": "Medal=Silver<br>Year=1952<br>Sport=%{x}<br>Medaltot=%{y}<extra></extra>",
           "legendgroup": "Silver",
           "marker": {
            "color": "#EF553B",
            "pattern": {
             "shape": ""
            }
           },
           "name": "Silver",
           "offsetgroup": "Silver",
           "orientation": "v",
           "showlegend": true,
           "textposition": "auto",
           "type": "bar",
           "x": [
            "Rowing",
            "Athletics",
            "Athletics",
            "Rowing",
            "Rowing",
            "Athletics",
            "Athletics",
            "Athletics",
            "Athletics"
           ],
           "xaxis": "x",
           "y": [
            1,
            1,
            1,
            1,
            1,
            1,
            1,
            1,
            1
           ],
           "yaxis": "y"
          },
          {
           "alignmentgroup": "True",
           "hovertemplate": "Medal=Bronze<br>Year=1952<br>Sport=%{x}<br>Medaltot=%{y}<extra></extra>",
           "legendgroup": "Bronze",
           "marker": {
            "color": "#00cc96",
            "pattern": {
             "shape": ""
            }
           },
           "name": "Bronze",
           "offsetgroup": "Bronze",
           "orientation": "v",
           "showlegend": true,
           "textposition": "auto",
           "type": "bar",
           "x": [
            "Athletics",
            "Athletics",
            "Swimming",
            "Athletics",
            "Athletics",
            "Athletics",
            "Athletics",
            "Athletics",
            "Athletics"
           ],
           "xaxis": "x",
           "y": [
            1,
            1,
            1,
            1,
            1,
            1,
            1,
            1,
            1
           ],
           "yaxis": "y"
          }
         ],
         "name": "1952"
        },
        {
         "data": [
          {
           "alignmentgroup": "True",
           "hovertemplate": "Medal=Silver<br>Year=1896<br>Sport=%{x}<br>Medaltot=%{y}<extra></extra>",
           "legendgroup": "Silver",
           "marker": {
            "color": "#EF553B",
            "pattern": {
             "shape": ""
            }
           },
           "name": "Silver",
           "offsetgroup": "Silver",
           "orientation": "v",
           "showlegend": true,
           "textposition": "auto",
           "type": "bar",
           "x": [
            "Athletics"
           ],
           "xaxis": "x",
           "y": [
            1
           ],
           "yaxis": "y"
          }
         ],
         "name": "1896"
        }
       ],
       "layout": {
        "barmode": "relative",
        "legend": {
         "title": {
          "text": "Medal"
         },
         "tracegroupgap": 0
        },
        "margin": {
         "t": 60
        },
        "sliders": [
         {
          "active": 0,
          "currentvalue": {
           "prefix": "Year="
          },
          "len": 0.9,
          "pad": {
           "b": 10,
           "t": 60
          },
          "steps": [
           {
            "args": [
             [
              "2012"
             ],
             {
              "frame": {
               "duration": 0,
               "redraw": true
              },
              "fromcurrent": true,
              "mode": "immediate",
              "transition": {
               "duration": 0,
               "easing": "linear"
              }
             }
            ],
            "label": "2012",
            "method": "animate"
           },
           {
            "args": [
             [
              "1936"
             ],
             {
              "frame": {
               "duration": 0,
               "redraw": true
              },
              "fromcurrent": true,
              "mode": "immediate",
              "transition": {
               "duration": 0,
               "easing": "linear"
              }
             }
            ],
            "label": "1936",
            "method": "animate"
           },
           {
            "args": [
             [
              "1964"
             ],
             {
              "frame": {
               "duration": 0,
               "redraw": true
              },
              "fromcurrent": true,
              "mode": "immediate",
              "transition": {
               "duration": 0,
               "easing": "linear"
              }
             }
            ],
            "label": "1964",
            "method": "animate"
           },
           {
            "args": [
             [
              "1932"
             ],
             {
              "frame": {
               "duration": 0,
               "redraw": true
              },
              "fromcurrent": true,
              "mode": "immediate",
              "transition": {
               "duration": 0,
               "easing": "linear"
              }
             }
            ],
            "label": "1932",
            "method": "animate"
           },
           {
            "args": [
             [
              "1992"
             ],
             {
              "frame": {
               "duration": 0,
               "redraw": true
              },
              "fromcurrent": true,
              "mode": "immediate",
              "transition": {
               "duration": 0,
               "easing": "linear"
              }
             }
            ],
            "label": "1992",
            "method": "animate"
           },
           {
            "args": [
             [
              "1900"
             ],
             {
              "frame": {
               "duration": 0,
               "redraw": true
              },
              "fromcurrent": true,
              "mode": "immediate",
              "transition": {
               "duration": 0,
               "easing": "linear"
              }
             }
            ],
            "label": "1900",
            "method": "animate"
           },
           {
            "args": [
             [
              "1956"
             ],
             {
              "frame": {
               "duration": 0,
               "redraw": true
              },
              "fromcurrent": true,
              "mode": "immediate",
              "transition": {
               "duration": 0,
               "easing": "linear"
              }
             }
            ],
            "label": "1956",
            "method": "animate"
           },
           {
            "args": [
             [
              "1912"
             ],
             {
              "frame": {
               "duration": 0,
               "redraw": true
              },
              "fromcurrent": true,
              "mode": "immediate",
              "transition": {
               "duration": 0,
               "easing": "linear"
              }
             }
            ],
            "label": "1912",
            "method": "animate"
           },
           {
            "args": [
             [
              "1996"
             ],
             {
              "frame": {
               "duration": 0,
               "redraw": true
              },
              "fromcurrent": true,
              "mode": "immediate",
              "transition": {
               "duration": 0,
               "easing": "linear"
              }
             }
            ],
            "label": "1996",
            "method": "animate"
           },
           {
            "args": [
             [
              "1906"
             ],
             {
              "frame": {
               "duration": 0,
               "redraw": true
              },
              "fromcurrent": true,
              "mode": "immediate",
              "transition": {
               "duration": 0,
               "easing": "linear"
              }
             }
            ],
            "label": "1906",
            "method": "animate"
           },
           {
            "args": [
             [
              "2016"
             ],
             {
              "frame": {
               "duration": 0,
               "redraw": true
              },
              "fromcurrent": true,
              "mode": "immediate",
              "transition": {
               "duration": 0,
               "easing": "linear"
              }
             }
            ],
            "label": "2016",
            "method": "animate"
           },
           {
            "args": [
             [
              "1908"
             ],
             {
              "frame": {
               "duration": 0,
               "redraw": true
              },
              "fromcurrent": true,
              "mode": "immediate",
              "transition": {
               "duration": 0,
               "easing": "linear"
              }
             }
            ],
            "label": "1908",
            "method": "animate"
           },
           {
            "args": [
             [
              "1960"
             ],
             {
              "frame": {
               "duration": 0,
               "redraw": true
              },
              "fromcurrent": true,
              "mode": "immediate",
              "transition": {
               "duration": 0,
               "easing": "linear"
              }
             }
            ],
            "label": "1960",
            "method": "animate"
           },
           {
            "args": [
             [
              "2000"
             ],
             {
              "frame": {
               "duration": 0,
               "redraw": true
              },
              "fromcurrent": true,
              "mode": "immediate",
              "transition": {
               "duration": 0,
               "easing": "linear"
              }
             }
            ],
            "label": "2000",
            "method": "animate"
           },
           {
            "args": [
             [
              "2004"
             ],
             {
              "frame": {
               "duration": 0,
               "redraw": true
              },
              "fromcurrent": true,
              "mode": "immediate",
              "transition": {
               "duration": 0,
               "easing": "linear"
              }
             }
            ],
            "label": "2004",
            "method": "animate"
           },
           {
            "args": [
             [
              "2008"
             ],
             {
              "frame": {
               "duration": 0,
               "redraw": true
              },
              "fromcurrent": true,
              "mode": "immediate",
              "transition": {
               "duration": 0,
               "easing": "linear"
              }
             }
            ],
            "label": "2008",
            "method": "animate"
           },
           {
            "args": [
             [
              "1904"
             ],
             {
              "frame": {
               "duration": 0,
               "redraw": true
              },
              "fromcurrent": true,
              "mode": "immediate",
              "transition": {
               "duration": 0,
               "easing": "linear"
              }
             }
            ],
            "label": "1904",
            "method": "animate"
           },
           {
            "args": [
             [
              "1928"
             ],
             {
              "frame": {
               "duration": 0,
               "redraw": true
              },
              "fromcurrent": true,
              "mode": "immediate",
              "transition": {
               "duration": 0,
               "easing": "linear"
              }
             }
            ],
            "label": "1928",
            "method": "animate"
           },
           {
            "args": [
             [
              "1952"
             ],
             {
              "frame": {
               "duration": 0,
               "redraw": true
              },
              "fromcurrent": true,
              "mode": "immediate",
              "transition": {
               "duration": 0,
               "easing": "linear"
              }
             }
            ],
            "label": "1952",
            "method": "animate"
           },
           {
            "args": [
             [
              "1896"
             ],
             {
              "frame": {
               "duration": 0,
               "redraw": true
              },
              "fromcurrent": true,
              "mode": "immediate",
              "transition": {
               "duration": 0,
               "easing": "linear"
              }
             }
            ],
            "label": "1896",
            "method": "animate"
           }
          ],
          "x": 0.1,
          "xanchor": "left",
          "y": 0,
          "yanchor": "top"
         }
        ],
        "template": {
         "data": {
          "bar": [
           {
            "error_x": {
             "color": "#2a3f5f"
            },
            "error_y": {
             "color": "#2a3f5f"
            },
            "marker": {
             "line": {
              "color": "#E5ECF6",
              "width": 0.5
             },
             "pattern": {
              "fillmode": "overlay",
              "size": 10,
              "solidity": 0.2
             }
            },
            "type": "bar"
           }
          ],
          "barpolar": [
           {
            "marker": {
             "line": {
              "color": "#E5ECF6",
              "width": 0.5
             },
             "pattern": {
              "fillmode": "overlay",
              "size": 10,
              "solidity": 0.2
             }
            },
            "type": "barpolar"
           }
          ],
          "carpet": [
           {
            "aaxis": {
             "endlinecolor": "#2a3f5f",
             "gridcolor": "white",
             "linecolor": "white",
             "minorgridcolor": "white",
             "startlinecolor": "#2a3f5f"
            },
            "baxis": {
             "endlinecolor": "#2a3f5f",
             "gridcolor": "white",
             "linecolor": "white",
             "minorgridcolor": "white",
             "startlinecolor": "#2a3f5f"
            },
            "type": "carpet"
           }
          ],
          "choropleth": [
           {
            "colorbar": {
             "outlinewidth": 0,
             "ticks": ""
            },
            "type": "choropleth"
           }
          ],
          "contour": [
           {
            "colorbar": {
             "outlinewidth": 0,
             "ticks": ""
            },
            "colorscale": [
             [
              0,
              "#0d0887"
             ],
             [
              0.1111111111111111,
              "#46039f"
             ],
             [
              0.2222222222222222,
              "#7201a8"
             ],
             [
              0.3333333333333333,
              "#9c179e"
             ],
             [
              0.4444444444444444,
              "#bd3786"
             ],
             [
              0.5555555555555556,
              "#d8576b"
             ],
             [
              0.6666666666666666,
              "#ed7953"
             ],
             [
              0.7777777777777778,
              "#fb9f3a"
             ],
             [
              0.8888888888888888,
              "#fdca26"
             ],
             [
              1,
              "#f0f921"
             ]
            ],
            "type": "contour"
           }
          ],
          "contourcarpet": [
           {
            "colorbar": {
             "outlinewidth": 0,
             "ticks": ""
            },
            "type": "contourcarpet"
           }
          ],
          "heatmap": [
           {
            "colorbar": {
             "outlinewidth": 0,
             "ticks": ""
            },
            "colorscale": [
             [
              0,
              "#0d0887"
             ],
             [
              0.1111111111111111,
              "#46039f"
             ],
             [
              0.2222222222222222,
              "#7201a8"
             ],
             [
              0.3333333333333333,
              "#9c179e"
             ],
             [
              0.4444444444444444,
              "#bd3786"
             ],
             [
              0.5555555555555556,
              "#d8576b"
             ],
             [
              0.6666666666666666,
              "#ed7953"
             ],
             [
              0.7777777777777778,
              "#fb9f3a"
             ],
             [
              0.8888888888888888,
              "#fdca26"
             ],
             [
              1,
              "#f0f921"
             ]
            ],
            "type": "heatmap"
           }
          ],
          "heatmapgl": [
           {
            "colorbar": {
             "outlinewidth": 0,
             "ticks": ""
            },
            "colorscale": [
             [
              0,
              "#0d0887"
             ],
             [
              0.1111111111111111,
              "#46039f"
             ],
             [
              0.2222222222222222,
              "#7201a8"
             ],
             [
              0.3333333333333333,
              "#9c179e"
             ],
             [
              0.4444444444444444,
              "#bd3786"
             ],
             [
              0.5555555555555556,
              "#d8576b"
             ],
             [
              0.6666666666666666,
              "#ed7953"
             ],
             [
              0.7777777777777778,
              "#fb9f3a"
             ],
             [
              0.8888888888888888,
              "#fdca26"
             ],
             [
              1,
              "#f0f921"
             ]
            ],
            "type": "heatmapgl"
           }
          ],
          "histogram": [
           {
            "marker": {
             "pattern": {
              "fillmode": "overlay",
              "size": 10,
              "solidity": 0.2
             }
            },
            "type": "histogram"
           }
          ],
          "histogram2d": [
           {
            "colorbar": {
             "outlinewidth": 0,
             "ticks": ""
            },
            "colorscale": [
             [
              0,
              "#0d0887"
             ],
             [
              0.1111111111111111,
              "#46039f"
             ],
             [
              0.2222222222222222,
              "#7201a8"
             ],
             [
              0.3333333333333333,
              "#9c179e"
             ],
             [
              0.4444444444444444,
              "#bd3786"
             ],
             [
              0.5555555555555556,
              "#d8576b"
             ],
             [
              0.6666666666666666,
              "#ed7953"
             ],
             [
              0.7777777777777778,
              "#fb9f3a"
             ],
             [
              0.8888888888888888,
              "#fdca26"
             ],
             [
              1,
              "#f0f921"
             ]
            ],
            "type": "histogram2d"
           }
          ],
          "histogram2dcontour": [
           {
            "colorbar": {
             "outlinewidth": 0,
             "ticks": ""
            },
            "colorscale": [
             [
              0,
              "#0d0887"
             ],
             [
              0.1111111111111111,
              "#46039f"
             ],
             [
              0.2222222222222222,
              "#7201a8"
             ],
             [
              0.3333333333333333,
              "#9c179e"
             ],
             [
              0.4444444444444444,
              "#bd3786"
             ],
             [
              0.5555555555555556,
              "#d8576b"
             ],
             [
              0.6666666666666666,
              "#ed7953"
             ],
             [
              0.7777777777777778,
              "#fb9f3a"
             ],
             [
              0.8888888888888888,
              "#fdca26"
             ],
             [
              1,
              "#f0f921"
             ]
            ],
            "type": "histogram2dcontour"
           }
          ],
          "mesh3d": [
           {
            "colorbar": {
             "outlinewidth": 0,
             "ticks": ""
            },
            "type": "mesh3d"
           }
          ],
          "parcoords": [
           {
            "line": {
             "colorbar": {
              "outlinewidth": 0,
              "ticks": ""
             }
            },
            "type": "parcoords"
           }
          ],
          "pie": [
           {
            "automargin": true,
            "type": "pie"
           }
          ],
          "scatter": [
           {
            "fillpattern": {
             "fillmode": "overlay",
             "size": 10,
             "solidity": 0.2
            },
            "type": "scatter"
           }
          ],
          "scatter3d": [
           {
            "line": {
             "colorbar": {
              "outlinewidth": 0,
              "ticks": ""
             }
            },
            "marker": {
             "colorbar": {
              "outlinewidth": 0,
              "ticks": ""
             }
            },
            "type": "scatter3d"
           }
          ],
          "scattercarpet": [
           {
            "marker": {
             "colorbar": {
              "outlinewidth": 0,
              "ticks": ""
             }
            },
            "type": "scattercarpet"
           }
          ],
          "scattergeo": [
           {
            "marker": {
             "colorbar": {
              "outlinewidth": 0,
              "ticks": ""
             }
            },
            "type": "scattergeo"
           }
          ],
          "scattergl": [
           {
            "marker": {
             "colorbar": {
              "outlinewidth": 0,
              "ticks": ""
             }
            },
            "type": "scattergl"
           }
          ],
          "scattermapbox": [
           {
            "marker": {
             "colorbar": {
              "outlinewidth": 0,
              "ticks": ""
             }
            },
            "type": "scattermapbox"
           }
          ],
          "scatterpolar": [
           {
            "marker": {
             "colorbar": {
              "outlinewidth": 0,
              "ticks": ""
             }
            },
            "type": "scatterpolar"
           }
          ],
          "scatterpolargl": [
           {
            "marker": {
             "colorbar": {
              "outlinewidth": 0,
              "ticks": ""
             }
            },
            "type": "scatterpolargl"
           }
          ],
          "scatterternary": [
           {
            "marker": {
             "colorbar": {
              "outlinewidth": 0,
              "ticks": ""
             }
            },
            "type": "scatterternary"
           }
          ],
          "surface": [
           {
            "colorbar": {
             "outlinewidth": 0,
             "ticks": ""
            },
            "colorscale": [
             [
              0,
              "#0d0887"
             ],
             [
              0.1111111111111111,
              "#46039f"
             ],
             [
              0.2222222222222222,
              "#7201a8"
             ],
             [
              0.3333333333333333,
              "#9c179e"
             ],
             [
              0.4444444444444444,
              "#bd3786"
             ],
             [
              0.5555555555555556,
              "#d8576b"
             ],
             [
              0.6666666666666666,
              "#ed7953"
             ],
             [
              0.7777777777777778,
              "#fb9f3a"
             ],
             [
              0.8888888888888888,
              "#fdca26"
             ],
             [
              1,
              "#f0f921"
             ]
            ],
            "type": "surface"
           }
          ],
          "table": [
           {
            "cells": {
             "fill": {
              "color": "#EBF0F8"
             },
             "line": {
              "color": "white"
             }
            },
            "header": {
             "fill": {
              "color": "#C8D4E3"
             },
             "line": {
              "color": "white"
             }
            },
            "type": "table"
           }
          ]
         },
         "layout": {
          "annotationdefaults": {
           "arrowcolor": "#2a3f5f",
           "arrowhead": 0,
           "arrowwidth": 1
          },
          "autotypenumbers": "strict",
          "coloraxis": {
           "colorbar": {
            "outlinewidth": 0,
            "ticks": ""
           }
          },
          "colorscale": {
           "diverging": [
            [
             0,
             "#8e0152"
            ],
            [
             0.1,
             "#c51b7d"
            ],
            [
             0.2,
             "#de77ae"
            ],
            [
             0.3,
             "#f1b6da"
            ],
            [
             0.4,
             "#fde0ef"
            ],
            [
             0.5,
             "#f7f7f7"
            ],
            [
             0.6,
             "#e6f5d0"
            ],
            [
             0.7,
             "#b8e186"
            ],
            [
             0.8,
             "#7fbc41"
            ],
            [
             0.9,
             "#4d9221"
            ],
            [
             1,
             "#276419"
            ]
           ],
           "sequential": [
            [
             0,
             "#0d0887"
            ],
            [
             0.1111111111111111,
             "#46039f"
            ],
            [
             0.2222222222222222,
             "#7201a8"
            ],
            [
             0.3333333333333333,
             "#9c179e"
            ],
            [
             0.4444444444444444,
             "#bd3786"
            ],
            [
             0.5555555555555556,
             "#d8576b"
            ],
            [
             0.6666666666666666,
             "#ed7953"
            ],
            [
             0.7777777777777778,
             "#fb9f3a"
            ],
            [
             0.8888888888888888,
             "#fdca26"
            ],
            [
             1,
             "#f0f921"
            ]
           ],
           "sequentialminus": [
            [
             0,
             "#0d0887"
            ],
            [
             0.1111111111111111,
             "#46039f"
            ],
            [
             0.2222222222222222,
             "#7201a8"
            ],
            [
             0.3333333333333333,
             "#9c179e"
            ],
            [
             0.4444444444444444,
             "#bd3786"
            ],
            [
             0.5555555555555556,
             "#d8576b"
            ],
            [
             0.6666666666666666,
             "#ed7953"
            ],
            [
             0.7777777777777778,
             "#fb9f3a"
            ],
            [
             0.8888888888888888,
             "#fdca26"
            ],
            [
             1,
             "#f0f921"
            ]
           ]
          },
          "colorway": [
           "#636efa",
           "#EF553B",
           "#00cc96",
           "#ab63fa",
           "#FFA15A",
           "#19d3f3",
           "#FF6692",
           "#B6E880",
           "#FF97FF",
           "#FECB52"
          ],
          "font": {
           "color": "#2a3f5f"
          },
          "geo": {
           "bgcolor": "white",
           "lakecolor": "white",
           "landcolor": "#E5ECF6",
           "showlakes": true,
           "showland": true,
           "subunitcolor": "white"
          },
          "hoverlabel": {
           "align": "left"
          },
          "hovermode": "closest",
          "mapbox": {
           "style": "light"
          },
          "paper_bgcolor": "white",
          "plot_bgcolor": "#E5ECF6",
          "polar": {
           "angularaxis": {
            "gridcolor": "white",
            "linecolor": "white",
            "ticks": ""
           },
           "bgcolor": "#E5ECF6",
           "radialaxis": {
            "gridcolor": "white",
            "linecolor": "white",
            "ticks": ""
           }
          },
          "scene": {
           "xaxis": {
            "backgroundcolor": "#E5ECF6",
            "gridcolor": "white",
            "gridwidth": 2,
            "linecolor": "white",
            "showbackground": true,
            "ticks": "",
            "zerolinecolor": "white"
           },
           "yaxis": {
            "backgroundcolor": "#E5ECF6",
            "gridcolor": "white",
            "gridwidth": 2,
            "linecolor": "white",
            "showbackground": true,
            "ticks": "",
            "zerolinecolor": "white"
           },
           "zaxis": {
            "backgroundcolor": "#E5ECF6",
            "gridcolor": "white",
            "gridwidth": 2,
            "linecolor": "white",
            "showbackground": true,
            "ticks": "",
            "zerolinecolor": "white"
           }
          },
          "shapedefaults": {
           "line": {
            "color": "#2a3f5f"
           }
          },
          "ternary": {
           "aaxis": {
            "gridcolor": "white",
            "linecolor": "white",
            "ticks": ""
           },
           "baxis": {
            "gridcolor": "white",
            "linecolor": "white",
            "ticks": ""
           },
           "bgcolor": "#E5ECF6",
           "caxis": {
            "gridcolor": "white",
            "linecolor": "white",
            "ticks": ""
           }
          },
          "title": {
           "x": 0.05
          },
          "xaxis": {
           "automargin": true,
           "gridcolor": "white",
           "linecolor": "white",
           "ticks": "",
           "title": {
            "standoff": 15
           },
           "zerolinecolor": "white",
           "zerolinewidth": 2
          },
          "yaxis": {
           "automargin": true,
           "gridcolor": "white",
           "linecolor": "white",
           "ticks": "",
           "title": {
            "standoff": 15
           },
           "zerolinecolor": "white",
           "zerolinewidth": 2
          }
         }
        },
        "updatemenus": [
         {
          "buttons": [
           {
            "args": [
             null,
             {
              "frame": {
               "duration": 500,
               "redraw": true
              },
              "fromcurrent": true,
              "mode": "immediate",
              "transition": {
               "duration": 500,
               "easing": "linear"
              }
             }
            ],
            "label": "&#9654;",
            "method": "animate"
           },
           {
            "args": [
             [
              null
             ],
             {
              "frame": {
               "duration": 0,
               "redraw": true
              },
              "fromcurrent": true,
              "mode": "immediate",
              "transition": {
               "duration": 0,
               "easing": "linear"
              }
             }
            ],
            "label": "&#9724;",
            "method": "animate"
           }
          ],
          "direction": "left",
          "pad": {
           "r": 10,
           "t": 70
          },
          "showactive": false,
          "type": "buttons",
          "x": 0.1,
          "xanchor": "right",
          "y": 0,
          "yanchor": "top"
         }
        ],
        "xaxis": {
         "anchor": "y",
         "domain": [
          0,
          1
         ],
         "title": {
          "text": "Sport"
         }
        },
        "yaxis": {
         "anchor": "x",
         "domain": [
          0,
          1
         ],
         "title": {
          "text": "Medaltot"
         }
        }
       }
      }
     },
     "metadata": {},
     "output_type": "display_data"
    }
   ],
   "source": [
    "import plotly_express as px\n",
    "\n",
    "df_ger_medal_pop=df_ger_medal[df_ger_medal[\"Sport\"].isin([\"Athletics\", \"Rowing\", \"Swimming\", \"Shooting\"])]\n",
    "\n",
    "\n",
    "\n",
    "px.bar(df_ger_medal_pop, x=\"Sport\", y=\"Medaltot\", color=\"Medal\", animation_frame=\"Year\")\n",
    "\n"
   ]
  },
  {
   "cell_type": "code",
   "execution_count": 24,
   "metadata": {},
   "outputs": [
    {
     "data": {
      "application/vnd.plotly.v1+json": {
       "config": {
        "plotlyServerURL": "https://plot.ly"
       },
       "data": [
        {
         "alignmentgroup": "True",
         "hovertemplate": "NOC=%{x}<br>Age=%{y}<br>Year=%{marker.color}<extra></extra>",
         "legendgroup": "",
         "marker": {
          "color": [
           1968,
           1960,
           1992,
           1992,
           1994,
           1994,
           1998,
           2002,
           1994,
           1994,
           1998,
           1998,
           2002,
           2002,
           2006,
           1976,
           1968,
           2006,
           1952,
           1928,
           1980,
           2002,
           2006,
           2006,
           2010,
           1956,
           1960,
           1960,
           1964,
           1968,
           1968,
           1972,
           2002,
           1980,
           1980,
           1980,
           1984,
           1984,
           2006,
           1984,
           2006,
           2010,
           2010,
           2002,
           2002,
           2006,
           1976,
           1976,
           1980,
           1992,
           1992,
           1992,
           1994,
           1994,
           1998,
           1998,
           2002,
           2002,
           2002,
           1976,
           1976,
           1980,
           1988,
           1936,
           2010,
           2014,
           2002,
           2006,
           2010,
           2010,
           2010,
           2010,
           2010,
           2014,
           2014,
           2014,
           2006,
           2014,
           2002,
           2006,
           1964,
           1964,
           1964,
           1980,
           1972,
           1980,
           1952,
           1952,
           1956,
           1960,
           1936,
           1960,
           1960,
           1998,
           2002,
           2002,
           2002,
           2006,
           2006,
           2014,
           2010,
           2014,
           2014,
           2006,
           2006,
           1972,
           2006,
           1988,
           1998,
           1998,
           1998,
           2006,
           1988,
           1992,
           1994,
           1976,
           2006,
           2006,
           1988,
           1988,
           2002,
           2006,
           2006,
           1992,
           1994,
           1994,
           1994,
           1994,
           1994,
           1998,
           2014,
           1988,
           1992,
           1994,
           1956,
           1956,
           1960,
           1968,
           1968,
           2002,
           1968,
           1936,
           1948,
           1980,
           1956,
           1948,
           1948,
           1952,
           1952,
           2002,
           2002,
           2002,
           2006,
           1948,
           2014,
           2014,
           1992,
           1994,
           1994,
           1998,
           1998,
           2014,
           2002,
           2006,
           2006,
           1972,
           1972,
           1976,
           1976,
           2006,
           2006,
           2006,
           1976,
           1976,
           1980,
           2014,
           1998,
           1976,
           1976,
           1988,
           1994,
           1994,
           1998,
           1972,
           2010,
           1988,
           1960,
           1964,
           1964,
           1968,
           1968,
           1924,
           1924,
           1928,
           1960,
           1960,
           1964,
           1964,
           1968,
           1968,
           1968,
           2010,
           2010,
           2014,
           1968,
           1936,
           1936,
           1948,
           1936,
           1952,
           1956,
           1956,
           1956,
           1960,
           1960,
           1960,
           1968,
           1960,
           1972,
           1972,
           1952,
           2014,
           1924,
           1924,
           1972,
           1928,
           1928,
           2010,
           2010,
           2014,
           2014,
           2002,
           2014,
           1976,
           1980,
           2002,
           2006,
           1952,
           1956,
           2002,
           2010,
           1998,
           2002,
           1936,
           2002,
           1960,
           1964,
           1984,
           2014,
           2014,
           1992,
           1994,
           1998,
           2002,
           1936,
           1984,
           1984,
           1988,
           2010,
           1936,
           2014,
           1980,
           1984,
           1984,
           1956,
           1956,
           1956,
           1956,
           1960,
           1960,
           1964,
           1964,
           1964,
           1998,
           1998,
           1956,
           1960,
           2010,
           2014,
           2014,
           2014,
           2014,
           1928,
           1998,
           1952,
           1972,
           1972,
           1972,
           1976,
           1972,
           1972,
           2010,
           2010,
           2014,
           2014,
           2014,
           1948,
           1936,
           1984,
           1984,
           1984,
           2010,
           1952,
           1980,
           1984,
           1984,
           1992,
           1994,
           1998,
           1984,
           1984,
           1984,
           1984,
           1988,
           1994,
           1994,
           1948,
           1956,
           1972,
           1976,
           1976,
           1976,
           1980,
           1976,
           1976,
           1984,
           1976,
           1976,
           1956,
           1956,
           1956,
           1964,
           1956,
           1964,
           1964,
           1968,
           1968,
           1952,
           1952,
           2010,
           1956,
           1988,
           2010,
           2006,
           2010,
           2010,
           2010,
           2014,
           1956,
           1956,
           1960,
           1960,
           1976,
           2010,
           2014,
           2006,
           2010,
           1968,
           1968,
           1972,
           1972,
           1972,
           1976,
           1976,
           1980,
           2002,
           2006,
           2006,
           2010,
           2010,
           2014,
           2006,
           1992,
           1956,
           1960,
           2014,
           1936,
           2014,
           1992,
           1992,
           1936,
           1936,
           1968,
           1968,
           1956,
           2006,
           1956,
           2010,
           1948,
           1964,
           1968,
           1992,
           1994,
           1998,
           1998,
           1998,
           1998,
           1998,
           1980,
           2014,
           2014,
           1964,
           1964,
           2002,
           1932,
           2006,
           2006,
           1952,
           1952,
           1972,
           1948,
           1948,
           1952,
           1984,
           1988,
           2002,
           2010,
           1998,
           2002,
           1992,
           2010,
           1952,
           1952,
           2014,
           1960,
           1964,
           1964,
           1964,
           1968,
           1968,
           1968,
           1968,
           1968,
           1976,
           1964,
           1968,
           1984,
           1988,
           1988,
           1988,
           1936,
           2006,
           2006,
           1964,
           1964,
           1976,
           1980,
           1980,
           1980,
           1984,
           1988,
           1994,
           1998,
           1998,
           2002,
           2002,
           1988,
           2010,
           1998,
           1968,
           1968,
           1972,
           1972,
           2010,
           1994,
           1994,
           1994,
           1998,
           1998,
           1998,
           1972,
           1980,
           1988,
           2014,
           1998,
           1998,
           2002,
           2002,
           2006,
           2006,
           1936,
           1984,
           1924,
           1992,
           1994,
           1998,
           2014,
           2014,
           2014,
           2014,
           1968,
           2010,
           2010,
           2010,
           2010,
           1936,
           1948,
           1984,
           1992,
           1994,
           1988,
           1928,
           1968,
           1948,
           2006,
           2010,
           2010,
           2010,
           2014,
           2014,
           1972,
           1972,
           1948,
           1948,
           2014,
           2014,
           1960,
           1984,
           1988,
           1984,
           2010,
           1992,
           1994,
           1998,
           2002,
           2006,
           1984,
           2002,
           2006,
           1992,
           2014,
           2014,
           2014,
           1980,
           1984,
           1984,
           2010,
           2010,
           1976,
           1980,
           1980,
           2002,
           2006,
           2006,
           2010,
           1976,
           1980,
           1956,
           1960,
           1964,
           1988,
           1988,
           1992,
           1964,
           1960,
           1960,
           1952,
           1956,
           1960,
           1992,
           1994,
           2006,
           1998,
           1988,
           1988,
           2010,
           2014,
           2014,
           1972,
           1976,
           1980,
           1980,
           1984,
           2002,
           2006,
           1980,
           1980,
           1980,
           1992,
           1992,
           1964,
           1964,
           1968,
           1980,
           1960,
           1932,
           1948,
           2006,
           2010,
           2010,
           2014,
           2014,
           1932,
           1932,
           2002,
           2002,
           2006,
           2010,
           2010,
           1976,
           1988,
           1956,
           1976,
           1976,
           1988,
           2002,
           2002,
           2006,
           2002,
           2006,
           1960,
           2006,
           1972,
           1948,
           1972,
           1972,
           1994,
           1994,
           1998,
           1998,
           1998,
           2002,
           2002,
           2002,
           1992,
           2002,
           2002,
           1972,
           2010,
           1976,
           1976,
           1976,
           1980,
           1980,
           1984,
           1984,
           1988,
           1988,
           1992,
           2006,
           2006,
           2010,
           1988,
           1988,
           1988,
           1994,
           1994,
           1994,
           1998,
           2006,
           2010,
           1976,
           2002,
           2006,
           1964,
           2010,
           2014,
           1952,
           1960,
           1964,
           1968,
           1924,
           1976,
           2010,
           2014,
           1984,
           1984,
           1984,
           1984,
           1988,
           1988,
           1988,
           2006,
           1984,
           1968,
           1948,
           1952,
           2010,
           2010,
           1956,
           1956,
           1976,
           1980,
           1964,
           1964,
           1988,
           1988,
           1988,
           2010,
           1968,
           1972,
           1972,
           1972,
           1976,
           1988,
           1992,
           1992,
           1992,
           1992,
           1994,
           1964,
           1932,
           1960,
           1964,
           1992,
           1992,
           1992,
           1992,
           1992,
           1994,
           1998,
           1998,
           2006,
           2006,
           1948,
           1992,
           1994,
           1992,
           1992,
           1992,
           1994,
           1968,
           1972,
           1972,
           1972,
           2002,
           2002,
           2006,
           1988,
           1988,
           1956,
           1964,
           1964,
           1972,
           2014,
           2014,
           2014,
           1980,
           1984,
           1984,
           1988,
           2014,
           1952,
           2014,
           1936,
           1932,
           1936,
           1988,
           1994,
           1998,
           2014,
           1992,
           1992,
           1992,
           1992,
           1992,
           1994,
           1994,
           1994,
           1994,
           1956,
           1956,
           1960,
           1960,
           1980,
           1984,
           1984,
           2010,
           1980,
           1980,
           1980,
           1984,
           1984,
           2002,
           2002,
           2006
          ],
          "coloraxis": "coloraxis",
          "pattern": {
           "shape": ""
          }
         },
         "name": "",
         "offsetgroup": "",
         "orientation": "v",
         "showlegend": false,
         "textposition": "auto",
         "type": "bar",
         "x": [
          "URS",
          "FIN",
          "ITA",
          "ITA",
          "ITA",
          "ITA",
          "ITA",
          "SUI",
          "NOR",
          "NOR",
          "NOR",
          "NOR",
          "NOR",
          "NOR",
          "RUS",
          "URS",
          "SWE",
          "SWE",
          "SWE",
          "SWE",
          "GDR",
          "GER",
          "GER",
          "GER",
          "GER",
          "URS",
          "URS",
          "URS",
          "SWE",
          "NOR",
          "NOR",
          "NOR",
          "NOR",
          "NOR",
          "NOR",
          "NOR",
          "NOR",
          "NOR",
          "RUS",
          "URS",
          "CZE",
          "CZE",
          "CZE",
          "GER",
          "GER",
          "GER",
          "URS",
          "URS",
          "URS",
          "ITA",
          "ITA",
          "ITA",
          "ITA",
          "ITA",
          "ITA",
          "ITA",
          "ITA",
          "ITA",
          "ITA",
          "URS",
          "URS",
          "URS",
          "TCH",
          "SWE",
          "NOR",
          "RUS",
          "NOR",
          "NOR",
          "NOR",
          "NOR",
          "NOR",
          "NOR",
          "NOR",
          "NOR",
          "NOR",
          "NOR",
          "GER",
          "GER",
          "AUT",
          "AUT",
          "URS",
          "URS",
          "URS",
          "NOR",
          "NOR",
          "NOR",
          "NOR",
          "NOR",
          "NOR",
          "NOR",
          "NOR",
          "NOR",
          "NOR",
          "RUS",
          "RUS",
          "RUS",
          "RUS",
          "RUS",
          "RUS",
          "RUS",
          "SUI",
          "SUI",
          "SUI",
          "ITA",
          "CAN",
          "NOR",
          "SWE",
          "NOR",
          "RUS",
          "RUS",
          "RUS",
          "FRA",
          "ITA",
          "ITA",
          "ITA",
          "GDR",
          "RUS",
          "RUS",
          "URS",
          "URS",
          "ITA",
          "ITA",
          "ITA",
          "ITA",
          "ITA",
          "ITA",
          "ITA",
          "ITA",
          "ITA",
          "ITA",
          "FRA",
          "NOR",
          "NOR",
          "NOR",
          "SWE",
          "SWE",
          "SWE",
          "NOR",
          "NOR",
          "SWE",
          "NOR",
          "SWE",
          "SWE",
          "NOR",
          "SWE",
          "SWE",
          "SWE",
          "NOR",
          "NOR",
          "NOR",
          "NOR",
          "NOR",
          "NOR",
          "NOR",
          "SLO",
          "NOR",
          "ITA",
          "ITA",
          "ITA",
          "ITA",
          "ITA",
          "GER",
          "GER",
          "GER",
          "ITA",
          "NOR",
          "NOR",
          "NOR",
          "NOR",
          "SWE",
          "SWE",
          "SWE",
          "URS",
          "URS",
          "URS",
          "FRA",
          "AUT",
          "URS",
          "URS",
          "URS",
          "RUS",
          "RUS",
          "RUS",
          "SUI",
          "GER",
          "SUI",
          "NOR",
          "NOR",
          "NOR",
          "NOR",
          "NOR",
          "NOR",
          "NOR",
          "NOR",
          "URS",
          "URS",
          "URS",
          "SWE",
          "SWE",
          "SWE",
          "SWE",
          "SWE",
          "SWE",
          "SWE",
          "SUI",
          "NOR",
          "NOR",
          "NOR",
          "SWE",
          "FIN",
          "FIN",
          "FIN",
          "FIN",
          "FIN",
          "FIN",
          "FIN",
          "SWE",
          "FIN",
          "NOR",
          "NOR",
          "FIN",
          "NOR",
          "NOR",
          "NOR",
          "SUI",
          "SWE",
          "NOR",
          "SWE",
          "SWE",
          "SWE",
          "SWE",
          "GER",
          "GER",
          "GDR",
          "GDR",
          "NOR",
          "NOR",
          "FIN",
          "FIN",
          "NOR",
          "NOR",
          "AUT",
          "AUT",
          "NOR",
          "SUI",
          "FIN",
          "FIN",
          "FIN",
          "SWE",
          "SWE",
          "FIN",
          "FIN",
          "FIN",
          "RUS",
          "NOR",
          "NOR",
          "NOR",
          "NOR",
          "CZE",
          "FIN",
          "FIN",
          "TCH",
          "TCH",
          "TCH",
          "SWE",
          "SWE",
          "SWE",
          "SWE",
          "SWE",
          "SWE",
          "SWE",
          "SWE",
          "SWE",
          "NOR",
          "NOR",
          "SWE",
          "SWE",
          "NOR",
          "NOR",
          "NOR",
          "SWE",
          "SWE",
          "SWE",
          "SWE",
          "SWE",
          "FIN",
          "FIN",
          "FIN",
          "FIN",
          "SUI",
          "SUI",
          "SWE",
          "SWE",
          "SWE",
          "SWE",
          "SWE",
          "SWE",
          "FIN",
          "FIN",
          "FIN",
          "FIN",
          "RUS",
          "NOR",
          "FIN",
          "FIN",
          "FIN",
          "FIN",
          "FIN",
          "FIN",
          "FIN",
          "FIN",
          "FIN",
          "FIN",
          "FIN",
          "FIN",
          "FIN",
          "FIN",
          "FIN",
          "FIN",
          "FIN",
          "FIN",
          "FIN",
          "FIN",
          "GDR",
          "USA",
          "SWE",
          "FIN",
          "FIN",
          "URS",
          "URS",
          "URS",
          "URS",
          "URS",
          "URS",
          "URS",
          "URS",
          "URS",
          "FIN",
          "FIN",
          "RUS",
          "FIN",
          "TCH",
          "CZE",
          "POL",
          "POL",
          "POL",
          "POL",
          "POL",
          "URS",
          "URS",
          "URS",
          "URS",
          "GDR",
          "RUS",
          "RUS",
          "FIN",
          "FIN",
          "URS",
          "URS",
          "URS",
          "URS",
          "URS",
          "URS",
          "URS",
          "URS",
          "GER",
          "GER",
          "GER",
          "GER",
          "GER",
          "GER",
          "RUS",
          "FIN",
          "URS",
          "URS",
          "FIN",
          "FIN",
          "FIN",
          "NOR",
          "NOR",
          "SWE",
          "SWE",
          "SWE",
          "SWE",
          "SWE",
          "SWE",
          "SWE",
          "FIN",
          "FIN",
          "FIN",
          "FIN",
          "EUN",
          "RUS",
          "RUS",
          "RUS",
          "RUS",
          "RUS",
          "RUS",
          "BUL",
          "RUS",
          "RUS",
          "FIN",
          "FIN",
          "SUI",
          "FIN",
          "SWE",
          "SWE",
          "FIN",
          "FIN",
          "SWE",
          "SWE",
          "SWE",
          "SWE",
          "FIN",
          "FIN",
          "EST",
          "CZE",
          "ITA",
          "ITA",
          "SWE",
          "SLO",
          "FIN",
          "FIN",
          "FRA",
          "FIN",
          "FIN",
          "FIN",
          "FIN",
          "FIN",
          "FIN",
          "FIN",
          "NOR",
          "NOR",
          "NOR",
          "SWE",
          "SWE",
          "FIN",
          "FIN",
          "FIN",
          "FIN",
          "SWE",
          "RUS",
          "RUS",
          "URS",
          "URS",
          "FIN",
          "FIN",
          "FIN",
          "FIN",
          "FIN",
          "NOR",
          "NOR",
          "NOR",
          "NOR",
          "NOR",
          "NOR",
          "SWE",
          "RUS",
          "ITA",
          "NOR",
          "NOR",
          "NOR",
          "URS",
          "FIN",
          "FIN",
          "FIN",
          "FIN",
          "FIN",
          "FIN",
          "FIN",
          "NOR",
          "NOR",
          "URS",
          "SWE",
          "CZE",
          "CZE",
          "CZE",
          "CZE",
          "CZE",
          "CZE",
          "FIN",
          "URS",
          "FIN",
          "NOR",
          "NOR",
          "NOR",
          "SWE",
          "FIN",
          "FIN",
          "FIN",
          "ITA",
          "NOR",
          "NOR",
          "NOR",
          "NOR",
          "FIN",
          "NOR",
          "NOR",
          "NOR",
          "NOR",
          "TCH",
          "NOR",
          "FIN",
          "NOR",
          "SWE",
          "SWE",
          "SWE",
          "SWE",
          "SWE",
          "SWE",
          "URS",
          "URS",
          "SWE",
          "SWE",
          "NOR",
          "NOR",
          "NOR",
          "SWE",
          "SWE",
          "TCH",
          "RUS",
          "ITA",
          "ITA",
          "ITA",
          "ITA",
          "ITA",
          "TCH",
          "NOR",
          "NOR",
          "NOR",
          "FRA",
          "SWE",
          "SWE",
          "NOR",
          "NOR",
          "NOR",
          "NOR",
          "RUS",
          "GDR",
          "GDR",
          "GDR",
          "ITA",
          "ITA",
          "ITA",
          "ITA",
          "FIN",
          "FIN",
          "FIN",
          "FIN",
          "FIN",
          "URS",
          "URS",
          "ITA",
          "FIN",
          "SWE",
          "SWE",
          "FIN",
          "FIN",
          "FIN",
          "FIN",
          "FIN",
          "CAN",
          "FIN",
          "URS",
          "URS",
          "SWE",
          "SWE",
          "SWE",
          "FIN",
          "FIN",
          "FIN",
          "FIN",
          "FIN",
          "SUI",
          "RUS",
          "URS",
          "URS",
          "URS",
          "FIN",
          "FIN",
          "SWE",
          "SWE",
          "SWE",
          "GDR",
          "FIN",
          "NOR",
          "FIN",
          "FIN",
          "FIN",
          "FIN",
          "FIN",
          "FIN",
          "FIN",
          "FIN",
          "GER",
          "GER",
          "GER",
          "GER",
          "GER",
          "NOR",
          "URS",
          "SWE",
          "URS",
          "URS",
          "FIN",
          "GER",
          "GER",
          "GER",
          "CAN",
          "CAN",
          "URS",
          "RUS",
          "TCH",
          "FIN",
          "URS",
          "URS",
          "NOR",
          "NOR",
          "NOR",
          "NOR",
          "NOR",
          "NOR",
          "NOR",
          "NOR",
          "NOR",
          "NOR",
          "NOR",
          "URS",
          "NOR",
          "URS",
          "URS",
          "URS",
          "URS",
          "URS",
          "URS",
          "URS",
          "URS",
          "URS",
          "EUN",
          "EST",
          "EST",
          "EST",
          "URS",
          "URS",
          "URS",
          "KAZ",
          "KAZ",
          "KAZ",
          "KAZ",
          "SWE",
          "SWE",
          "SWE",
          "GER",
          "GER",
          "SWE",
          "NOR",
          "NOR",
          "NOR",
          "SWE",
          "SWE",
          "SWE",
          "NOR",
          "FIN",
          "NOR",
          "NOR",
          "SWE",
          "SWE",
          "SWE",
          "SWE",
          "SWE",
          "SWE",
          "TCH",
          "NOR",
          "TCH",
          "FIN",
          "SWE",
          "SWE",
          "GER",
          "GER",
          "URS",
          "URS",
          "FIN",
          "FIN",
          "FIN",
          "FIN",
          "URS",
          "URS",
          "URS",
          "GER",
          "NOR",
          "NOR",
          "NOR",
          "NOR",
          "NOR",
          "NOR",
          "NOR",
          "NOR",
          "NOR",
          "NOR",
          "NOR",
          "URS",
          "SWE",
          "URS",
          "URS",
          "EUN",
          "EUN",
          "EUN",
          "EUN",
          "EUN",
          "RUS",
          "RUS",
          "ITA",
          "ITA",
          "ITA",
          "FIN",
          "ITA",
          "ITA",
          "ITA",
          "ITA",
          "ITA",
          "ITA",
          "URS",
          "URS",
          "URS",
          "URS",
          "EST",
          "EST",
          "EST",
          "URS",
          "URS",
          "FIN",
          "URS",
          "URS",
          "URS",
          "RUS",
          "RUS",
          "RUS",
          "SWE",
          "SWE",
          "SWE",
          "SWE",
          "NOR",
          "FIN",
          "SWE",
          "SWE",
          "SWE",
          "SWE",
          "NOR",
          "NOR",
          "NOR",
          "RUS",
          "EUN",
          "EUN",
          "EUN",
          "EUN",
          "EUN",
          "RUS",
          "RUS",
          "RUS",
          "RUS",
          "URS",
          "URS",
          "URS",
          "URS",
          "URS",
          "URS",
          "URS",
          "GER",
          "URS",
          "URS",
          "URS",
          "URS",
          "URS",
          "ITA",
          "ITA",
          "ITA"
         ],
         "xaxis": "x",
         "y": [
          30,
          30,
          31,
          31,
          33,
          33,
          37,
          31,
          22,
          22,
          26,
          26,
          30,
          30,
          23,
          26,
          27,
          24,
          25,
          32,
          19,
          24,
          28,
          28,
          32,
          24,
          28,
          28,
          24,
          26,
          26,
          30,
          29,
          23,
          23,
          23,
          27,
          27,
          30,
          24,
          28,
          32,
          32,
          25,
          25,
          29,
          22,
          22,
          26,
          23,
          23,
          23,
          25,
          25,
          29,
          29,
          33,
          33,
          33,
          21,
          21,
          25,
          24,
          26,
          30,
          27,
          21,
          25,
          29,
          29,
          29,
          29,
          29,
          33,
          33,
          33,
          24,
          32,
          34,
          38,
          24,
          24,
          24,
          22,
          20,
          28,
          23,
          23,
          26,
          31,
          27,
          32,
          32,
          21,
          25,
          25,
          25,
          29,
          29,
          27,
          23,
          27,
          27,
          30,
          22,
          22,
          29,
          23,
          27,
          27,
          27,
          22,
          37,
          41,
          43,
          23,
          23,
          23,
          28,
          28,
          29,
          33,
          33,
          29,
          31,
          31,
          31,
          31,
          31,
          35,
          30,
          22,
          26,
          28,
          25,
          25,
          29,
          28,
          28,
          24,
          28,
          28,
          26,
          25,
          27,
          27,
          27,
          27,
          27,
          29,
          29,
          29,
          33,
          33,
          28,
          23,
          23,
          25,
          25,
          29,
          29,
          30,
          22,
          26,
          28,
          20,
          20,
          24,
          24,
          33,
          30,
          30,
          28,
          28,
          32,
          33,
          32,
          30,
          30,
          22,
          28,
          28,
          32,
          25,
          19,
          27,
          25,
          29,
          29,
          33,
          33,
          24,
          24,
          28,
          29,
          29,
          32,
          26,
          30,
          30,
          30,
          23,
          23,
          27,
          30,
          28,
          28,
          26,
          27,
          27,
          31,
          31,
          31,
          35,
          35,
          35,
          25,
          27,
          28,
          28,
          25,
          31,
          29,
          29,
          23,
          30,
          29,
          24,
          24,
          28,
          28,
          27,
          25,
          23,
          27,
          28,
          32,
          21,
          25,
          30,
          38,
          23,
          27,
          27,
          26,
          24,
          28,
          23,
          28,
          28,
          23,
          25,
          29,
          24,
          23,
          20,
          20,
          24,
          23,
          28,
          32,
          23,
          27,
          27,
          26,
          26,
          26,
          26,
          31,
          31,
          34,
          34,
          34,
          31,
          31,
          23,
          27,
          21,
          25,
          25,
          28,
          28,
          24,
          28,
          35,
          34,
          34,
          34,
          38,
          32,
          23,
          22,
          22,
          26,
          26,
          26,
          30,
          28,
          26,
          26,
          26,
          25,
          31,
          21,
          25,
          25,
          33,
          35,
          39,
          28,
          28,
          28,
          28,
          32,
          38,
          38,
          25,
          33,
          24,
          28,
          28,
          28,
          32,
          30,
          20,
          29,
          28,
          28,
          26,
          26,
          26,
          34,
          25,
          33,
          33,
          37,
          37,
          33,
          29,
          28,
          23,
          22,
          31,
          23,
          27,
          27,
          27,
          31,
          26,
          26,
          30,
          30,
          22,
          24,
          28,
          29,
          33,
          25,
          25,
          29,
          29,
          29,
          33,
          33,
          37,
          24,
          28,
          28,
          32,
          32,
          36,
          32,
          24,
          25,
          30,
          26,
          24,
          23,
          27,
          27,
          23,
          23,
          23,
          23,
          25,
          25,
          26,
          31,
          28,
          26,
          30,
          26,
          28,
          32,
          32,
          32,
          32,
          32,
          22,
          30,
          30,
          21,
          21,
          30,
          28,
          27,
          27,
          29,
          29,
          24,
          29,
          29,
          33,
          24,
          28,
          29,
          32,
          27,
          31,
          28,
          30,
          25,
          25,
          27,
          22,
          26,
          26,
          26,
          30,
          30,
          30,
          25,
          25,
          33,
          28,
          32,
          19,
          23,
          23,
          23,
          24,
          29,
          29,
          32,
          32,
          26,
          30,
          30,
          30,
          34,
          26,
          26,
          30,
          30,
          34,
          34,
          24,
          23,
          23,
          27,
          27,
          31,
          24,
          28,
          24,
          24,
          24,
          28,
          28,
          28,
          28,
          26,
          23,
          28,
          24,
          24,
          28,
          28,
          32,
          32,
          26,
          24,
          28,
          23,
          25,
          29,
          20,
          22,
          25,
          25,
          27,
          24,
          24,
          24,
          24,
          27,
          24,
          23,
          31,
          33,
          21,
          26,
          31,
          36,
          25,
          29,
          29,
          29,
          33,
          33,
          29,
          29,
          29,
          29,
          23,
          23,
          24,
          23,
          27,
          25,
          20,
          22,
          24,
          28,
          32,
          36,
          29,
          37,
          41,
          26,
          28,
          25,
          25,
          18,
          22,
          22,
          27,
          26,
          20,
          24,
          24,
          27,
          31,
          31,
          35,
          27,
          31,
          28,
          26,
          30,
          23,
          23,
          27,
          22,
          25,
          25,
          27,
          31,
          35,
          26,
          28,
          29,
          26,
          23,
          23,
          27,
          31,
          31,
          19,
          23,
          27,
          27,
          25,
          22,
          25,
          28,
          28,
          31,
          26,
          26,
          28,
          28,
          32,
          19,
          27,
          26,
          29,
          27,
          31,
          31,
          35,
          35,
          29,
          29,
          21,
          21,
          25,
          29,
          29,
          24,
          26,
          28,
          27,
          27,
          24,
          31,
          29,
          33,
          27,
          31,
          29,
          26,
          22,
          31,
          26,
          26,
          27,
          27,
          31,
          25,
          25,
          29,
          29,
          29,
          24,
          34,
          34,
          22,
          29,
          23,
          23,
          23,
          27,
          27,
          31,
          31,
          35,
          35,
          39,
          28,
          28,
          32,
          23,
          23,
          23,
          29,
          29,
          29,
          33,
          28,
          32,
          27,
          27,
          31,
          28,
          28,
          32,
          29,
          25,
          29,
          33,
          27,
          32,
          25,
          29,
          22,
          22,
          22,
          22,
          26,
          26,
          28,
          29,
          30,
          27,
          30,
          34,
          30,
          30,
          30,
          30,
          24,
          28,
          33,
          33,
          23,
          23,
          23,
          20,
          25,
          29,
          29,
          29,
          33,
          24,
          28,
          28,
          28,
          28,
          30,
          29,
          30,
          23,
          27,
          23,
          23,
          23,
          23,
          23,
          25,
          29,
          28,
          36,
          34,
          26,
          30,
          32,
          32,
          32,
          32,
          34,
          26,
          30,
          30,
          30,
          31,
          31,
          35,
          26,
          26,
          31,
          25,
          25,
          27,
          31,
          31,
          31,
          23,
          27,
          27,
          31,
          22,
          31,
          24,
          26,
          24,
          28,
          22,
          28,
          32,
          28,
          25,
          25,
          25,
          25,
          25,
          27,
          27,
          27,
          27,
          25,
          25,
          29,
          29,
          24,
          28,
          28,
          30,
          24,
          24,
          24,
          28,
          28,
          29,
          29,
          33
         ],
         "yaxis": "y"
        }
       ],
       "layout": {
        "barmode": "relative",
        "coloraxis": {
         "colorbar": {
          "title": {
           "text": "Year"
          }
         },
         "colorscale": [
          [
           0,
           "#0d0887"
          ],
          [
           0.1111111111111111,
           "#46039f"
          ],
          [
           0.2222222222222222,
           "#7201a8"
          ],
          [
           0.3333333333333333,
           "#9c179e"
          ],
          [
           0.4444444444444444,
           "#bd3786"
          ],
          [
           0.5555555555555556,
           "#d8576b"
          ],
          [
           0.6666666666666666,
           "#ed7953"
          ],
          [
           0.7777777777777778,
           "#fb9f3a"
          ],
          [
           0.8888888888888888,
           "#fdca26"
          ],
          [
           1,
           "#f0f921"
          ]
         ]
        },
        "legend": {
         "tracegroupgap": 0
        },
        "margin": {
         "t": 60
        },
        "template": {
         "data": {
          "bar": [
           {
            "error_x": {
             "color": "#2a3f5f"
            },
            "error_y": {
             "color": "#2a3f5f"
            },
            "marker": {
             "line": {
              "color": "#E5ECF6",
              "width": 0.5
             },
             "pattern": {
              "fillmode": "overlay",
              "size": 10,
              "solidity": 0.2
             }
            },
            "type": "bar"
           }
          ],
          "barpolar": [
           {
            "marker": {
             "line": {
              "color": "#E5ECF6",
              "width": 0.5
             },
             "pattern": {
              "fillmode": "overlay",
              "size": 10,
              "solidity": 0.2
             }
            },
            "type": "barpolar"
           }
          ],
          "carpet": [
           {
            "aaxis": {
             "endlinecolor": "#2a3f5f",
             "gridcolor": "white",
             "linecolor": "white",
             "minorgridcolor": "white",
             "startlinecolor": "#2a3f5f"
            },
            "baxis": {
             "endlinecolor": "#2a3f5f",
             "gridcolor": "white",
             "linecolor": "white",
             "minorgridcolor": "white",
             "startlinecolor": "#2a3f5f"
            },
            "type": "carpet"
           }
          ],
          "choropleth": [
           {
            "colorbar": {
             "outlinewidth": 0,
             "ticks": ""
            },
            "type": "choropleth"
           }
          ],
          "contour": [
           {
            "colorbar": {
             "outlinewidth": 0,
             "ticks": ""
            },
            "colorscale": [
             [
              0,
              "#0d0887"
             ],
             [
              0.1111111111111111,
              "#46039f"
             ],
             [
              0.2222222222222222,
              "#7201a8"
             ],
             [
              0.3333333333333333,
              "#9c179e"
             ],
             [
              0.4444444444444444,
              "#bd3786"
             ],
             [
              0.5555555555555556,
              "#d8576b"
             ],
             [
              0.6666666666666666,
              "#ed7953"
             ],
             [
              0.7777777777777778,
              "#fb9f3a"
             ],
             [
              0.8888888888888888,
              "#fdca26"
             ],
             [
              1,
              "#f0f921"
             ]
            ],
            "type": "contour"
           }
          ],
          "contourcarpet": [
           {
            "colorbar": {
             "outlinewidth": 0,
             "ticks": ""
            },
            "type": "contourcarpet"
           }
          ],
          "heatmap": [
           {
            "colorbar": {
             "outlinewidth": 0,
             "ticks": ""
            },
            "colorscale": [
             [
              0,
              "#0d0887"
             ],
             [
              0.1111111111111111,
              "#46039f"
             ],
             [
              0.2222222222222222,
              "#7201a8"
             ],
             [
              0.3333333333333333,
              "#9c179e"
             ],
             [
              0.4444444444444444,
              "#bd3786"
             ],
             [
              0.5555555555555556,
              "#d8576b"
             ],
             [
              0.6666666666666666,
              "#ed7953"
             ],
             [
              0.7777777777777778,
              "#fb9f3a"
             ],
             [
              0.8888888888888888,
              "#fdca26"
             ],
             [
              1,
              "#f0f921"
             ]
            ],
            "type": "heatmap"
           }
          ],
          "heatmapgl": [
           {
            "colorbar": {
             "outlinewidth": 0,
             "ticks": ""
            },
            "colorscale": [
             [
              0,
              "#0d0887"
             ],
             [
              0.1111111111111111,
              "#46039f"
             ],
             [
              0.2222222222222222,
              "#7201a8"
             ],
             [
              0.3333333333333333,
              "#9c179e"
             ],
             [
              0.4444444444444444,
              "#bd3786"
             ],
             [
              0.5555555555555556,
              "#d8576b"
             ],
             [
              0.6666666666666666,
              "#ed7953"
             ],
             [
              0.7777777777777778,
              "#fb9f3a"
             ],
             [
              0.8888888888888888,
              "#fdca26"
             ],
             [
              1,
              "#f0f921"
             ]
            ],
            "type": "heatmapgl"
           }
          ],
          "histogram": [
           {
            "marker": {
             "pattern": {
              "fillmode": "overlay",
              "size": 10,
              "solidity": 0.2
             }
            },
            "type": "histogram"
           }
          ],
          "histogram2d": [
           {
            "colorbar": {
             "outlinewidth": 0,
             "ticks": ""
            },
            "colorscale": [
             [
              0,
              "#0d0887"
             ],
             [
              0.1111111111111111,
              "#46039f"
             ],
             [
              0.2222222222222222,
              "#7201a8"
             ],
             [
              0.3333333333333333,
              "#9c179e"
             ],
             [
              0.4444444444444444,
              "#bd3786"
             ],
             [
              0.5555555555555556,
              "#d8576b"
             ],
             [
              0.6666666666666666,
              "#ed7953"
             ],
             [
              0.7777777777777778,
              "#fb9f3a"
             ],
             [
              0.8888888888888888,
              "#fdca26"
             ],
             [
              1,
              "#f0f921"
             ]
            ],
            "type": "histogram2d"
           }
          ],
          "histogram2dcontour": [
           {
            "colorbar": {
             "outlinewidth": 0,
             "ticks": ""
            },
            "colorscale": [
             [
              0,
              "#0d0887"
             ],
             [
              0.1111111111111111,
              "#46039f"
             ],
             [
              0.2222222222222222,
              "#7201a8"
             ],
             [
              0.3333333333333333,
              "#9c179e"
             ],
             [
              0.4444444444444444,
              "#bd3786"
             ],
             [
              0.5555555555555556,
              "#d8576b"
             ],
             [
              0.6666666666666666,
              "#ed7953"
             ],
             [
              0.7777777777777778,
              "#fb9f3a"
             ],
             [
              0.8888888888888888,
              "#fdca26"
             ],
             [
              1,
              "#f0f921"
             ]
            ],
            "type": "histogram2dcontour"
           }
          ],
          "mesh3d": [
           {
            "colorbar": {
             "outlinewidth": 0,
             "ticks": ""
            },
            "type": "mesh3d"
           }
          ],
          "parcoords": [
           {
            "line": {
             "colorbar": {
              "outlinewidth": 0,
              "ticks": ""
             }
            },
            "type": "parcoords"
           }
          ],
          "pie": [
           {
            "automargin": true,
            "type": "pie"
           }
          ],
          "scatter": [
           {
            "fillpattern": {
             "fillmode": "overlay",
             "size": 10,
             "solidity": 0.2
            },
            "type": "scatter"
           }
          ],
          "scatter3d": [
           {
            "line": {
             "colorbar": {
              "outlinewidth": 0,
              "ticks": ""
             }
            },
            "marker": {
             "colorbar": {
              "outlinewidth": 0,
              "ticks": ""
             }
            },
            "type": "scatter3d"
           }
          ],
          "scattercarpet": [
           {
            "marker": {
             "colorbar": {
              "outlinewidth": 0,
              "ticks": ""
             }
            },
            "type": "scattercarpet"
           }
          ],
          "scattergeo": [
           {
            "marker": {
             "colorbar": {
              "outlinewidth": 0,
              "ticks": ""
             }
            },
            "type": "scattergeo"
           }
          ],
          "scattergl": [
           {
            "marker": {
             "colorbar": {
              "outlinewidth": 0,
              "ticks": ""
             }
            },
            "type": "scattergl"
           }
          ],
          "scattermapbox": [
           {
            "marker": {
             "colorbar": {
              "outlinewidth": 0,
              "ticks": ""
             }
            },
            "type": "scattermapbox"
           }
          ],
          "scatterpolar": [
           {
            "marker": {
             "colorbar": {
              "outlinewidth": 0,
              "ticks": ""
             }
            },
            "type": "scatterpolar"
           }
          ],
          "scatterpolargl": [
           {
            "marker": {
             "colorbar": {
              "outlinewidth": 0,
              "ticks": ""
             }
            },
            "type": "scatterpolargl"
           }
          ],
          "scatterternary": [
           {
            "marker": {
             "colorbar": {
              "outlinewidth": 0,
              "ticks": ""
             }
            },
            "type": "scatterternary"
           }
          ],
          "surface": [
           {
            "colorbar": {
             "outlinewidth": 0,
             "ticks": ""
            },
            "colorscale": [
             [
              0,
              "#0d0887"
             ],
             [
              0.1111111111111111,
              "#46039f"
             ],
             [
              0.2222222222222222,
              "#7201a8"
             ],
             [
              0.3333333333333333,
              "#9c179e"
             ],
             [
              0.4444444444444444,
              "#bd3786"
             ],
             [
              0.5555555555555556,
              "#d8576b"
             ],
             [
              0.6666666666666666,
              "#ed7953"
             ],
             [
              0.7777777777777778,
              "#fb9f3a"
             ],
             [
              0.8888888888888888,
              "#fdca26"
             ],
             [
              1,
              "#f0f921"
             ]
            ],
            "type": "surface"
           }
          ],
          "table": [
           {
            "cells": {
             "fill": {
              "color": "#EBF0F8"
             },
             "line": {
              "color": "white"
             }
            },
            "header": {
             "fill": {
              "color": "#C8D4E3"
             },
             "line": {
              "color": "white"
             }
            },
            "type": "table"
           }
          ]
         },
         "layout": {
          "annotationdefaults": {
           "arrowcolor": "#2a3f5f",
           "arrowhead": 0,
           "arrowwidth": 1
          },
          "autotypenumbers": "strict",
          "coloraxis": {
           "colorbar": {
            "outlinewidth": 0,
            "ticks": ""
           }
          },
          "colorscale": {
           "diverging": [
            [
             0,
             "#8e0152"
            ],
            [
             0.1,
             "#c51b7d"
            ],
            [
             0.2,
             "#de77ae"
            ],
            [
             0.3,
             "#f1b6da"
            ],
            [
             0.4,
             "#fde0ef"
            ],
            [
             0.5,
             "#f7f7f7"
            ],
            [
             0.6,
             "#e6f5d0"
            ],
            [
             0.7,
             "#b8e186"
            ],
            [
             0.8,
             "#7fbc41"
            ],
            [
             0.9,
             "#4d9221"
            ],
            [
             1,
             "#276419"
            ]
           ],
           "sequential": [
            [
             0,
             "#0d0887"
            ],
            [
             0.1111111111111111,
             "#46039f"
            ],
            [
             0.2222222222222222,
             "#7201a8"
            ],
            [
             0.3333333333333333,
             "#9c179e"
            ],
            [
             0.4444444444444444,
             "#bd3786"
            ],
            [
             0.5555555555555556,
             "#d8576b"
            ],
            [
             0.6666666666666666,
             "#ed7953"
            ],
            [
             0.7777777777777778,
             "#fb9f3a"
            ],
            [
             0.8888888888888888,
             "#fdca26"
            ],
            [
             1,
             "#f0f921"
            ]
           ],
           "sequentialminus": [
            [
             0,
             "#0d0887"
            ],
            [
             0.1111111111111111,
             "#46039f"
            ],
            [
             0.2222222222222222,
             "#7201a8"
            ],
            [
             0.3333333333333333,
             "#9c179e"
            ],
            [
             0.4444444444444444,
             "#bd3786"
            ],
            [
             0.5555555555555556,
             "#d8576b"
            ],
            [
             0.6666666666666666,
             "#ed7953"
            ],
            [
             0.7777777777777778,
             "#fb9f3a"
            ],
            [
             0.8888888888888888,
             "#fdca26"
            ],
            [
             1,
             "#f0f921"
            ]
           ]
          },
          "colorway": [
           "#636efa",
           "#EF553B",
           "#00cc96",
           "#ab63fa",
           "#FFA15A",
           "#19d3f3",
           "#FF6692",
           "#B6E880",
           "#FF97FF",
           "#FECB52"
          ],
          "font": {
           "color": "#2a3f5f"
          },
          "geo": {
           "bgcolor": "white",
           "lakecolor": "white",
           "landcolor": "#E5ECF6",
           "showlakes": true,
           "showland": true,
           "subunitcolor": "white"
          },
          "hoverlabel": {
           "align": "left"
          },
          "hovermode": "closest",
          "mapbox": {
           "style": "light"
          },
          "paper_bgcolor": "white",
          "plot_bgcolor": "#E5ECF6",
          "polar": {
           "angularaxis": {
            "gridcolor": "white",
            "linecolor": "white",
            "ticks": ""
           },
           "bgcolor": "#E5ECF6",
           "radialaxis": {
            "gridcolor": "white",
            "linecolor": "white",
            "ticks": ""
           }
          },
          "scene": {
           "xaxis": {
            "backgroundcolor": "#E5ECF6",
            "gridcolor": "white",
            "gridwidth": 2,
            "linecolor": "white",
            "showbackground": true,
            "ticks": "",
            "zerolinecolor": "white"
           },
           "yaxis": {
            "backgroundcolor": "#E5ECF6",
            "gridcolor": "white",
            "gridwidth": 2,
            "linecolor": "white",
            "showbackground": true,
            "ticks": "",
            "zerolinecolor": "white"
           },
           "zaxis": {
            "backgroundcolor": "#E5ECF6",
            "gridcolor": "white",
            "gridwidth": 2,
            "linecolor": "white",
            "showbackground": true,
            "ticks": "",
            "zerolinecolor": "white"
           }
          },
          "shapedefaults": {
           "line": {
            "color": "#2a3f5f"
           }
          },
          "ternary": {
           "aaxis": {
            "gridcolor": "white",
            "linecolor": "white",
            "ticks": ""
           },
           "baxis": {
            "gridcolor": "white",
            "linecolor": "white",
            "ticks": ""
           },
           "bgcolor": "#E5ECF6",
           "caxis": {
            "gridcolor": "white",
            "linecolor": "white",
            "ticks": ""
           }
          },
          "title": {
           "x": 0.05
          },
          "xaxis": {
           "automargin": true,
           "gridcolor": "white",
           "linecolor": "white",
           "ticks": "",
           "title": {
            "standoff": 15
           },
           "zerolinecolor": "white",
           "zerolinewidth": 2
          },
          "yaxis": {
           "automargin": true,
           "gridcolor": "white",
           "linecolor": "white",
           "ticks": "",
           "title": {
            "standoff": 15
           },
           "zerolinecolor": "white",
           "zerolinewidth": 2
          }
         }
        },
        "xaxis": {
         "anchor": "y",
         "domain": [
          0,
          1
         ],
         "title": {
          "text": "NOC"
         }
        },
        "yaxis": {
         "anchor": "x",
         "domain": [
          0,
          1
         ],
         "title": {
          "text": "Age"
         }
        }
       }
      }
     },
     "metadata": {},
     "output_type": "display_data"
    }
   ],
   "source": [
    "px.bar(df_skidor_medaljer, x=\"NOC\", y=\"Age\", color=\"Year\")\n"
   ]
  },
  {
   "cell_type": "code",
   "execution_count": 49,
   "metadata": {},
   "outputs": [
    {
     "data": {
      "application/vnd.plotly.v1+json": {
       "config": {
        "plotlyServerURL": "https://plot.ly"
       },
       "data": [
        {
         "hovertemplate": "variable=Antal länder som tog medalj<br>Games=%{x}<br>value=%{y}<extra></extra>",
         "legendgroup": "Antal länder som tog medalj",
         "line": {
          "color": "#636efa",
          "dash": "solid"
         },
         "marker": {
          "symbol": "circle"
         },
         "mode": "lines",
         "name": "Antal länder som tog medalj",
         "orientation": "v",
         "showlegend": true,
         "type": "scatter",
         "x": [
          "1948 Winter",
          "1952 Winter",
          "1956 Winter",
          "1960 Winter",
          "1964 Winter",
          "1968 Winter",
          "1972 Winter",
          "1976 Winter",
          "1980 Winter",
          "1984 Winter",
          "1988 Winter",
          "1992 Winter",
          "1994 Winter",
          "1998 Winter",
          "2002 Winter",
          "2006 Winter",
          "2010 Winter",
          "2014 Winter"
         ],
         "xaxis": "x",
         "y": [
          3,
          3,
          4,
          4,
          4,
          6,
          6,
          6,
          7,
          5,
          7,
          5,
          5,
          8,
          10,
          12,
          11,
          9
         ],
         "yaxis": "y"
        },
        {
         "hovertemplate": "variable=Antal länder<br>Games=%{x}<br>value=%{y}<extra></extra>",
         "legendgroup": "Antal länder",
         "line": {
          "color": "#EF553B",
          "dash": "solid"
         },
         "marker": {
          "symbol": "circle"
         },
         "mode": "lines",
         "name": "Antal länder",
         "orientation": "v",
         "showlegend": true,
         "type": "scatter",
         "x": [
          "1948 Winter",
          "1952 Winter",
          "1956 Winter",
          "1960 Winter",
          "1964 Winter",
          "1968 Winter",
          "1972 Winter",
          "1976 Winter",
          "1980 Winter",
          "1984 Winter",
          "1988 Winter",
          "1992 Winter",
          "1994 Winter",
          "1998 Winter",
          "2002 Winter",
          "2006 Winter",
          "2010 Winter",
          "2014 Winter"
         ],
         "xaxis": "x",
         "y": [
          15,
          19,
          20,
          19,
          24,
          25,
          19,
          24,
          24,
          32,
          35,
          40,
          35,
          37,
          44,
          53,
          55,
          54
         ],
         "yaxis": "y"
        }
       ],
       "layout": {
        "legend": {
         "title": {
          "text": "variable"
         },
         "tracegroupgap": 0
        },
        "margin": {
         "t": 60
        },
        "template": {
         "data": {
          "bar": [
           {
            "error_x": {
             "color": "#2a3f5f"
            },
            "error_y": {
             "color": "#2a3f5f"
            },
            "marker": {
             "line": {
              "color": "#E5ECF6",
              "width": 0.5
             },
             "pattern": {
              "fillmode": "overlay",
              "size": 10,
              "solidity": 0.2
             }
            },
            "type": "bar"
           }
          ],
          "barpolar": [
           {
            "marker": {
             "line": {
              "color": "#E5ECF6",
              "width": 0.5
             },
             "pattern": {
              "fillmode": "overlay",
              "size": 10,
              "solidity": 0.2
             }
            },
            "type": "barpolar"
           }
          ],
          "carpet": [
           {
            "aaxis": {
             "endlinecolor": "#2a3f5f",
             "gridcolor": "white",
             "linecolor": "white",
             "minorgridcolor": "white",
             "startlinecolor": "#2a3f5f"
            },
            "baxis": {
             "endlinecolor": "#2a3f5f",
             "gridcolor": "white",
             "linecolor": "white",
             "minorgridcolor": "white",
             "startlinecolor": "#2a3f5f"
            },
            "type": "carpet"
           }
          ],
          "choropleth": [
           {
            "colorbar": {
             "outlinewidth": 0,
             "ticks": ""
            },
            "type": "choropleth"
           }
          ],
          "contour": [
           {
            "colorbar": {
             "outlinewidth": 0,
             "ticks": ""
            },
            "colorscale": [
             [
              0,
              "#0d0887"
             ],
             [
              0.1111111111111111,
              "#46039f"
             ],
             [
              0.2222222222222222,
              "#7201a8"
             ],
             [
              0.3333333333333333,
              "#9c179e"
             ],
             [
              0.4444444444444444,
              "#bd3786"
             ],
             [
              0.5555555555555556,
              "#d8576b"
             ],
             [
              0.6666666666666666,
              "#ed7953"
             ],
             [
              0.7777777777777778,
              "#fb9f3a"
             ],
             [
              0.8888888888888888,
              "#fdca26"
             ],
             [
              1,
              "#f0f921"
             ]
            ],
            "type": "contour"
           }
          ],
          "contourcarpet": [
           {
            "colorbar": {
             "outlinewidth": 0,
             "ticks": ""
            },
            "type": "contourcarpet"
           }
          ],
          "heatmap": [
           {
            "colorbar": {
             "outlinewidth": 0,
             "ticks": ""
            },
            "colorscale": [
             [
              0,
              "#0d0887"
             ],
             [
              0.1111111111111111,
              "#46039f"
             ],
             [
              0.2222222222222222,
              "#7201a8"
             ],
             [
              0.3333333333333333,
              "#9c179e"
             ],
             [
              0.4444444444444444,
              "#bd3786"
             ],
             [
              0.5555555555555556,
              "#d8576b"
             ],
             [
              0.6666666666666666,
              "#ed7953"
             ],
             [
              0.7777777777777778,
              "#fb9f3a"
             ],
             [
              0.8888888888888888,
              "#fdca26"
             ],
             [
              1,
              "#f0f921"
             ]
            ],
            "type": "heatmap"
           }
          ],
          "heatmapgl": [
           {
            "colorbar": {
             "outlinewidth": 0,
             "ticks": ""
            },
            "colorscale": [
             [
              0,
              "#0d0887"
             ],
             [
              0.1111111111111111,
              "#46039f"
             ],
             [
              0.2222222222222222,
              "#7201a8"
             ],
             [
              0.3333333333333333,
              "#9c179e"
             ],
             [
              0.4444444444444444,
              "#bd3786"
             ],
             [
              0.5555555555555556,
              "#d8576b"
             ],
             [
              0.6666666666666666,
              "#ed7953"
             ],
             [
              0.7777777777777778,
              "#fb9f3a"
             ],
             [
              0.8888888888888888,
              "#fdca26"
             ],
             [
              1,
              "#f0f921"
             ]
            ],
            "type": "heatmapgl"
           }
          ],
          "histogram": [
           {
            "marker": {
             "pattern": {
              "fillmode": "overlay",
              "size": 10,
              "solidity": 0.2
             }
            },
            "type": "histogram"
           }
          ],
          "histogram2d": [
           {
            "colorbar": {
             "outlinewidth": 0,
             "ticks": ""
            },
            "colorscale": [
             [
              0,
              "#0d0887"
             ],
             [
              0.1111111111111111,
              "#46039f"
             ],
             [
              0.2222222222222222,
              "#7201a8"
             ],
             [
              0.3333333333333333,
              "#9c179e"
             ],
             [
              0.4444444444444444,
              "#bd3786"
             ],
             [
              0.5555555555555556,
              "#d8576b"
             ],
             [
              0.6666666666666666,
              "#ed7953"
             ],
             [
              0.7777777777777778,
              "#fb9f3a"
             ],
             [
              0.8888888888888888,
              "#fdca26"
             ],
             [
              1,
              "#f0f921"
             ]
            ],
            "type": "histogram2d"
           }
          ],
          "histogram2dcontour": [
           {
            "colorbar": {
             "outlinewidth": 0,
             "ticks": ""
            },
            "colorscale": [
             [
              0,
              "#0d0887"
             ],
             [
              0.1111111111111111,
              "#46039f"
             ],
             [
              0.2222222222222222,
              "#7201a8"
             ],
             [
              0.3333333333333333,
              "#9c179e"
             ],
             [
              0.4444444444444444,
              "#bd3786"
             ],
             [
              0.5555555555555556,
              "#d8576b"
             ],
             [
              0.6666666666666666,
              "#ed7953"
             ],
             [
              0.7777777777777778,
              "#fb9f3a"
             ],
             [
              0.8888888888888888,
              "#fdca26"
             ],
             [
              1,
              "#f0f921"
             ]
            ],
            "type": "histogram2dcontour"
           }
          ],
          "mesh3d": [
           {
            "colorbar": {
             "outlinewidth": 0,
             "ticks": ""
            },
            "type": "mesh3d"
           }
          ],
          "parcoords": [
           {
            "line": {
             "colorbar": {
              "outlinewidth": 0,
              "ticks": ""
             }
            },
            "type": "parcoords"
           }
          ],
          "pie": [
           {
            "automargin": true,
            "type": "pie"
           }
          ],
          "scatter": [
           {
            "fillpattern": {
             "fillmode": "overlay",
             "size": 10,
             "solidity": 0.2
            },
            "type": "scatter"
           }
          ],
          "scatter3d": [
           {
            "line": {
             "colorbar": {
              "outlinewidth": 0,
              "ticks": ""
             }
            },
            "marker": {
             "colorbar": {
              "outlinewidth": 0,
              "ticks": ""
             }
            },
            "type": "scatter3d"
           }
          ],
          "scattercarpet": [
           {
            "marker": {
             "colorbar": {
              "outlinewidth": 0,
              "ticks": ""
             }
            },
            "type": "scattercarpet"
           }
          ],
          "scattergeo": [
           {
            "marker": {
             "colorbar": {
              "outlinewidth": 0,
              "ticks": ""
             }
            },
            "type": "scattergeo"
           }
          ],
          "scattergl": [
           {
            "marker": {
             "colorbar": {
              "outlinewidth": 0,
              "ticks": ""
             }
            },
            "type": "scattergl"
           }
          ],
          "scattermapbox": [
           {
            "marker": {
             "colorbar": {
              "outlinewidth": 0,
              "ticks": ""
             }
            },
            "type": "scattermapbox"
           }
          ],
          "scatterpolar": [
           {
            "marker": {
             "colorbar": {
              "outlinewidth": 0,
              "ticks": ""
             }
            },
            "type": "scatterpolar"
           }
          ],
          "scatterpolargl": [
           {
            "marker": {
             "colorbar": {
              "outlinewidth": 0,
              "ticks": ""
             }
            },
            "type": "scatterpolargl"
           }
          ],
          "scatterternary": [
           {
            "marker": {
             "colorbar": {
              "outlinewidth": 0,
              "ticks": ""
             }
            },
            "type": "scatterternary"
           }
          ],
          "surface": [
           {
            "colorbar": {
             "outlinewidth": 0,
             "ticks": ""
            },
            "colorscale": [
             [
              0,
              "#0d0887"
             ],
             [
              0.1111111111111111,
              "#46039f"
             ],
             [
              0.2222222222222222,
              "#7201a8"
             ],
             [
              0.3333333333333333,
              "#9c179e"
             ],
             [
              0.4444444444444444,
              "#bd3786"
             ],
             [
              0.5555555555555556,
              "#d8576b"
             ],
             [
              0.6666666666666666,
              "#ed7953"
             ],
             [
              0.7777777777777778,
              "#fb9f3a"
             ],
             [
              0.8888888888888888,
              "#fdca26"
             ],
             [
              1,
              "#f0f921"
             ]
            ],
            "type": "surface"
           }
          ],
          "table": [
           {
            "cells": {
             "fill": {
              "color": "#EBF0F8"
             },
             "line": {
              "color": "white"
             }
            },
            "header": {
             "fill": {
              "color": "#C8D4E3"
             },
             "line": {
              "color": "white"
             }
            },
            "type": "table"
           }
          ]
         },
         "layout": {
          "annotationdefaults": {
           "arrowcolor": "#2a3f5f",
           "arrowhead": 0,
           "arrowwidth": 1
          },
          "autotypenumbers": "strict",
          "coloraxis": {
           "colorbar": {
            "outlinewidth": 0,
            "ticks": ""
           }
          },
          "colorscale": {
           "diverging": [
            [
             0,
             "#8e0152"
            ],
            [
             0.1,
             "#c51b7d"
            ],
            [
             0.2,
             "#de77ae"
            ],
            [
             0.3,
             "#f1b6da"
            ],
            [
             0.4,
             "#fde0ef"
            ],
            [
             0.5,
             "#f7f7f7"
            ],
            [
             0.6,
             "#e6f5d0"
            ],
            [
             0.7,
             "#b8e186"
            ],
            [
             0.8,
             "#7fbc41"
            ],
            [
             0.9,
             "#4d9221"
            ],
            [
             1,
             "#276419"
            ]
           ],
           "sequential": [
            [
             0,
             "#0d0887"
            ],
            [
             0.1111111111111111,
             "#46039f"
            ],
            [
             0.2222222222222222,
             "#7201a8"
            ],
            [
             0.3333333333333333,
             "#9c179e"
            ],
            [
             0.4444444444444444,
             "#bd3786"
            ],
            [
             0.5555555555555556,
             "#d8576b"
            ],
            [
             0.6666666666666666,
             "#ed7953"
            ],
            [
             0.7777777777777778,
             "#fb9f3a"
            ],
            [
             0.8888888888888888,
             "#fdca26"
            ],
            [
             1,
             "#f0f921"
            ]
           ],
           "sequentialminus": [
            [
             0,
             "#0d0887"
            ],
            [
             0.1111111111111111,
             "#46039f"
            ],
            [
             0.2222222222222222,
             "#7201a8"
            ],
            [
             0.3333333333333333,
             "#9c179e"
            ],
            [
             0.4444444444444444,
             "#bd3786"
            ],
            [
             0.5555555555555556,
             "#d8576b"
            ],
            [
             0.6666666666666666,
             "#ed7953"
            ],
            [
             0.7777777777777778,
             "#fb9f3a"
            ],
            [
             0.8888888888888888,
             "#fdca26"
            ],
            [
             1,
             "#f0f921"
            ]
           ]
          },
          "colorway": [
           "#636efa",
           "#EF553B",
           "#00cc96",
           "#ab63fa",
           "#FFA15A",
           "#19d3f3",
           "#FF6692",
           "#B6E880",
           "#FF97FF",
           "#FECB52"
          ],
          "font": {
           "color": "#2a3f5f"
          },
          "geo": {
           "bgcolor": "white",
           "lakecolor": "white",
           "landcolor": "#E5ECF6",
           "showlakes": true,
           "showland": true,
           "subunitcolor": "white"
          },
          "hoverlabel": {
           "align": "left"
          },
          "hovermode": "closest",
          "mapbox": {
           "style": "light"
          },
          "paper_bgcolor": "white",
          "plot_bgcolor": "#E5ECF6",
          "polar": {
           "angularaxis": {
            "gridcolor": "white",
            "linecolor": "white",
            "ticks": ""
           },
           "bgcolor": "#E5ECF6",
           "radialaxis": {
            "gridcolor": "white",
            "linecolor": "white",
            "ticks": ""
           }
          },
          "scene": {
           "xaxis": {
            "backgroundcolor": "#E5ECF6",
            "gridcolor": "white",
            "gridwidth": 2,
            "linecolor": "white",
            "showbackground": true,
            "ticks": "",
            "zerolinecolor": "white"
           },
           "yaxis": {
            "backgroundcolor": "#E5ECF6",
            "gridcolor": "white",
            "gridwidth": 2,
            "linecolor": "white",
            "showbackground": true,
            "ticks": "",
            "zerolinecolor": "white"
           },
           "zaxis": {
            "backgroundcolor": "#E5ECF6",
            "gridcolor": "white",
            "gridwidth": 2,
            "linecolor": "white",
            "showbackground": true,
            "ticks": "",
            "zerolinecolor": "white"
           }
          },
          "shapedefaults": {
           "line": {
            "color": "#2a3f5f"
           }
          },
          "ternary": {
           "aaxis": {
            "gridcolor": "white",
            "linecolor": "white",
            "ticks": ""
           },
           "baxis": {
            "gridcolor": "white",
            "linecolor": "white",
            "ticks": ""
           },
           "bgcolor": "#E5ECF6",
           "caxis": {
            "gridcolor": "white",
            "linecolor": "white",
            "ticks": ""
           }
          },
          "title": {
           "x": 0.05
          },
          "xaxis": {
           "automargin": true,
           "gridcolor": "white",
           "linecolor": "white",
           "ticks": "",
           "title": {
            "standoff": 15
           },
           "zerolinecolor": "white",
           "zerolinewidth": 2
          },
          "yaxis": {
           "automargin": true,
           "gridcolor": "white",
           "linecolor": "white",
           "ticks": "",
           "title": {
            "standoff": 15
           },
           "zerolinecolor": "white",
           "zerolinewidth": 2
          }
         }
        },
        "xaxis": {
         "anchor": "y",
         "domain": [
          0,
          1
         ],
         "title": {
          "text": "Games"
         }
        },
        "yaxis": {
         "anchor": "x",
         "domain": [
          0,
          1
         ],
         "title": {
          "text": "value"
         }
        }
       }
      }
     },
     "metadata": {},
     "output_type": "display_data"
    }
   ],
   "source": [
    "wo=[\"1948 Winter\", \"1952 Winter\", \"1956 Winter\", \"1960 Winter\",\n",
    "    \"1964 Winter\", \"1968 Winter\", \"1972 Winter\", \"1976 Winter\",\n",
    "    \"1980 Winter\", \"1984 Winter\", \"1988 Winter\", \"1992 Winter\",\n",
    "    \"1994 Winter\", \"1998 Winter\", \"2002 Winter\", \"2006 Winter\",\n",
    "    \"2010 Winter\", \"2014 Winter\"]\n",
    "\n",
    "cc_delt=[]\n",
    "\n",
    "for j in wo:\n",
    "    df_year=df[df[\"Games\"]==j]\n",
    "    df_year_skidor=df_year[df_year[\"Sport\"]==\"Cross Country Skiing\"]\n",
    "    df_year_skidor_medals=df_year_skidor[df_year_skidor[\"Medal\"].isin([\"Gold\", \"Silver\", \"Bronze\"])]\n",
    "    delt_land=(len(df_year_skidor_medals[\"NOC\"].unique()))\n",
    "    medal_land=(len(df_year_skidor[\"NOC\"].unique()))\n",
    "    cc_delt.append([j, delt_land, medal_land])\n",
    "\n",
    "cc_delt\n",
    "\n",
    "df_cc_delt=pd.DataFrame(cc_delt, columns=[\"Games\",  \"Antal länder som tog medalj\", \"Antal länder\"])\n",
    "px.line(df_cc_delt, x=\"Games\", y=[\"Antal länder som tog medalj\", \"Antal länder\"])\n"
   ]
  },
  {
   "cell_type": "code",
   "execution_count": 56,
   "metadata": {},
   "outputs": [
    {
     "data": {
      "image/png": "[encoded data removed]",
      "text/plain": [
       "<Figure size 640x480 with 1 Axes>"
      ]
     },
     "metadata": {},
     "output_type": "display_data"
    }
   ],
   "source": [
    "df_sporter = df[df[\"Sport\"].isin([\"Curling\", \"Football\", \"Sailing\", \"Handball\"])]\n",
    "sns.set_theme(style=\"darkgrid\")\n",
    "sns.histplot(x=\"Age\", hue=\"Sport\", data=df_sporter, bins=20, kde=True, stat=\"percent\")\n",
    "\n",
    "plt.title(\"Åldersfördelning i sporterna i OS\")\n",
    "plt.xlabel(\"Ålder\")\n",
    "plt.ylabel(\"Antal deltagare\")\n",
    "plt.show()"
   ]
  },
  {
   "cell_type": "code",
   "execution_count": null,
   "metadata": {},
   "outputs": [],
   "source": [
    "df_skidor"
   ]
  }
 ],
 "metadata": {
  "kernelspec": {
   "display_name": "Python 3",
   "language": "python",
   "name": "python3"
  },
  "language_info": {
   "codemirror_mode": {
    "name": "ipython",
    "version": 3
   },
   "file_extension": ".py",
   "mimetype": "text/x-python",
   "name": "python",
   "nbconvert_exporter": "python",
   "pygments_lexer": "ipython3",
   "version": "3.12.5"
  }
 },
 "nbformat": 4,
 "nbformat_minor": 2
}
